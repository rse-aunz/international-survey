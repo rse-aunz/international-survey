{
 "cells": [
  {
   "cell_type": "markdown",
   "metadata": {
    "toc": true
   },
   "source": [
    "<h1>Table of Contents<span class=\"tocSkip\"></span></h1>\n",
    "<div class=\"toc\"><ul class=\"toc-item\"><li><span><a href=\"#Introduction\" data-toc-modified-id=\"Introduction-1\"><span class=\"toc-item-num\">1&nbsp;&nbsp;</span>Introduction</a></span><ul class=\"toc-item\"><li><span><a href=\"#Setting-up\" data-toc-modified-id=\"Setting-up-1.1\"><span class=\"toc-item-num\">1.1&nbsp;&nbsp;</span>Setting up</a></span></li></ul></li><li><span><a href=\"#Professional-developers\" data-toc-modified-id=\"Professional-developers-2\"><span class=\"toc-item-num\">2&nbsp;&nbsp;</span>Professional developers</a></span><ul class=\"toc-item\"><li><span><a href=\"#Australia\" data-toc-modified-id=\"Australia-2.1\"><span class=\"toc-item-num\">2.1&nbsp;&nbsp;</span>Australia</a></span></li><li><span><a href=\"#Germany\" data-toc-modified-id=\"Germany-2.2\"><span class=\"toc-item-num\">2.2&nbsp;&nbsp;</span>Germany</a></span></li><li><span><a href=\"#Netherlands\" data-toc-modified-id=\"Netherlands-2.3\"><span class=\"toc-item-num\">2.3&nbsp;&nbsp;</span>Netherlands</a></span></li><li><span><a href=\"#New-Zealand\" data-toc-modified-id=\"New-Zealand-2.4\"><span class=\"toc-item-num\">2.4&nbsp;&nbsp;</span>New Zealand</a></span></li><li><span><a href=\"#South-Africa\" data-toc-modified-id=\"South-Africa-2.5\"><span class=\"toc-item-num\">2.5&nbsp;&nbsp;</span>South Africa</a></span></li><li><span><a href=\"#United-Kingdom\" data-toc-modified-id=\"United-Kingdom-2.6\"><span class=\"toc-item-num\">2.6&nbsp;&nbsp;</span>United Kingdom</a></span></li><li><span><a href=\"#United-States\" data-toc-modified-id=\"United-States-2.7\"><span class=\"toc-item-num\">2.7&nbsp;&nbsp;</span>United States</a></span></li><li><span><a href=\"#Rest-of-the-World\" data-toc-modified-id=\"Rest-of-the-World-2.8\"><span class=\"toc-item-num\">2.8&nbsp;&nbsp;</span>Rest of the World</a></span></li></ul></li></ul></div>"
   ]
  },
  {
   "cell_type": "markdown",
   "metadata": {},
   "source": [
    "# Introduction"
   ]
  },
  {
   "cell_type": "markdown",
   "metadata": {},
   "source": [
    "## Setting up"
   ]
  },
  {
   "cell_type": "code",
   "execution_count": null,
   "metadata": {},
   "outputs": [],
   "source": [
    "%%capture  \n",
    "# Import notebook containing the imports the functions and the dataset\n",
    "%run \"./0. Imports and functions.ipynb\"\n",
    "\n",
    "# Import notebook containing sampled dataset\n",
    "%run \"./1. Overview and sampling.ipynb\""
   ]
  },
  {
   "cell_type": "markdown",
   "metadata": {},
   "source": [
    "# Professional developers"
   ]
  },
  {
   "cell_type": "markdown",
   "metadata": {},
   "source": [
    "In this section we investigate the relationship between RSEs/RSDs and their own experience in software development\n",
    "Understandably, we expect them having several years of software development experience. However, as shown in previous years, it is not necessarily reflected upon their own feeling of being considered as professional. "
   ]
  },
  {
   "cell_type": "code",
   "execution_count": null,
   "metadata": {},
   "outputs": [],
   "source": [
    "prof_dev= ['soft2can. Do you consider yourself a professional software developer?']\n",
    "year_dev = ['soft1can. How many years of software development experience do you have?']"
   ]
  },
  {
   "cell_type": "markdown",
   "metadata": {},
   "source": [
    "## Australia"
   ]
  },
  {
   "cell_type": "code",
   "execution_count": null,
   "metadata": {},
   "outputs": [],
   "source": [
    "# Plotting the reported 'professional software developer'\n",
    "country = 'Australia'\n",
    "category = 'Professional developer'\n",
    "# Get the count\n",
    "result = count_diff(df, prof_dev, category=category, country=country, y_n=True)\n",
    "result"
   ]
  },
  {
   "cell_type": "code",
   "execution_count": null,
   "metadata": {},
   "outputs": [],
   "source": [
    "plot_cat_comparison(result, country, category)"
   ]
  },
  {
   "cell_type": "code",
   "execution_count": null,
   "metadata": {},
   "outputs": [],
   "source": [
    "country = 'Australia'\n",
    "category = 'How many years of software development experience'\n",
    "result = describe_diff(df, year_dev, country=country, category=category)\n",
    "result"
   ]
  },
  {
   "cell_type": "code",
   "execution_count": null,
   "metadata": {},
   "outputs": [],
   "source": [
    "plot_density_func(df, year_dev, country, category)"
   ]
  },
  {
   "cell_type": "markdown",
   "metadata": {},
   "source": [
    "## Germany"
   ]
  },
  {
   "cell_type": "code",
   "execution_count": null,
   "metadata": {},
   "outputs": [],
   "source": [
    "# Plotting the reported 'professional software developer'\n",
    "country = 'Germany'\n",
    "category = 'Professional developer'\n",
    "# Get the count\n",
    "result = count_diff(df, prof_dev, category=category, country=country, y_n=True)\n",
    "result"
   ]
  },
  {
   "cell_type": "code",
   "execution_count": null,
   "metadata": {},
   "outputs": [],
   "source": [
    "plot_cat_comparison(result, country, category)"
   ]
  },
  {
   "cell_type": "code",
   "execution_count": null,
   "metadata": {},
   "outputs": [],
   "source": [
    "# Plotting the reported 'professional software developer'\n",
    "country = 'Germany'\n",
    "category = 'How many years of software development experience'\n",
    "result = describe_diff(df, year_dev, country=country, category=category)\n",
    "result"
   ]
  },
  {
   "cell_type": "code",
   "execution_count": null,
   "metadata": {},
   "outputs": [],
   "source": [
    "plot_density_func(df, year_dev, country, category)"
   ]
  },
  {
   "cell_type": "markdown",
   "metadata": {},
   "source": [
    "## Netherlands"
   ]
  },
  {
   "cell_type": "code",
   "execution_count": null,
   "metadata": {},
   "outputs": [],
   "source": [
    "# Plotting the reported 'professional software developer'\n",
    "country = 'Netherlands'\n",
    "category = 'Do you consider yourself a professional software developer'\n",
    "# Get the count\n",
    "result = count_diff(df, prof_dev, category=category, country=country, y_n=True)\n",
    "result"
   ]
  },
  {
   "cell_type": "code",
   "execution_count": null,
   "metadata": {},
   "outputs": [],
   "source": [
    "plot_cat_comparison(result, country, category)"
   ]
  },
  {
   "cell_type": "code",
   "execution_count": null,
   "metadata": {},
   "outputs": [],
   "source": [
    "# Plotting the reported 'professional software developer'\n",
    "country = 'Netherlands'\n",
    "category = 'How many years of software development experience'\n",
    "result = describe_diff(df, year_dev, country=country, category=category)\n",
    "result"
   ]
  },
  {
   "cell_type": "code",
   "execution_count": null,
   "metadata": {},
   "outputs": [],
   "source": [
    "plot_density_func(df, year_dev, country, category)"
   ]
  },
  {
   "cell_type": "markdown",
   "metadata": {},
   "source": [
    "## New Zealand"
   ]
  },
  {
   "cell_type": "code",
   "execution_count": null,
   "metadata": {},
   "outputs": [],
   "source": [
    "# Plotting the reported 'professional software developer'\n",
    "country = 'New Zealand'\n",
    "category = 'Do you consider yourself a professional software developer'\n",
    "# Get the count\n",
    "result = count_diff(df, prof_dev, category=category, country=country, y_n=True)\n",
    "result"
   ]
  },
  {
   "cell_type": "code",
   "execution_count": null,
   "metadata": {},
   "outputs": [],
   "source": [
    "plot_cat_comparison(result, country, category)"
   ]
  },
  {
   "cell_type": "code",
   "execution_count": null,
   "metadata": {},
   "outputs": [],
   "source": [
    "# Software Development experience\n",
    "country = 'New Zealand'\n",
    "category = 'How many years of software development experience'\n",
    "result = describe_diff(df, year_dev, country=country, category=category)\n",
    "result"
   ]
  },
  {
   "cell_type": "code",
   "execution_count": null,
   "metadata": {},
   "outputs": [],
   "source": [
    "plot_density_func(df, year_dev, country, category)"
   ]
  },
  {
   "cell_type": "markdown",
   "metadata": {},
   "source": [
    "## South Africa"
   ]
  },
  {
   "cell_type": "code",
   "execution_count": null,
   "metadata": {},
   "outputs": [],
   "source": [
    "# Plotting the reported 'professional software developer'\n",
    "country = 'South Africa'\n",
    "category = 'Do you consider yourself a professional software developer'\n",
    "# Get the count\n",
    "result = count_diff(df, prof_dev, category=category, country=country, y_n=True)\n",
    "result"
   ]
  },
  {
   "cell_type": "code",
   "execution_count": null,
   "metadata": {},
   "outputs": [],
   "source": [
    "plot_cat_comparison(result, country, category)"
   ]
  },
  {
   "cell_type": "code",
   "execution_count": null,
   "metadata": {},
   "outputs": [],
   "source": [
    "# Software Development experience\n",
    "country = 'South Africa'\n",
    "category = 'How many years of software development experience'\n",
    "result = describe_diff(df, year_dev, country=country, category=category)\n",
    "result"
   ]
  },
  {
   "cell_type": "code",
   "execution_count": null,
   "metadata": {},
   "outputs": [],
   "source": [
    "plot_density_func(df, year_dev, country, category)"
   ]
  },
  {
   "cell_type": "markdown",
   "metadata": {
    "collapsed": true
   },
   "source": [
    "## United Kingdom"
   ]
  },
  {
   "cell_type": "code",
   "execution_count": null,
   "metadata": {},
   "outputs": [],
   "source": [
    "# Plotting the reported 'professional software developer'\n",
    "country = 'United Kingdom'\n",
    "category = 'Do you consider yourself a professional software developer'\n",
    "# Get the count\n",
    "result = count_diff(df, prof_dev, category=category, country=country, y_n=True)\n",
    "result"
   ]
  },
  {
   "cell_type": "code",
   "execution_count": null,
   "metadata": {},
   "outputs": [],
   "source": [
    "plot_cat_comparison(result, country, category)"
   ]
  },
  {
   "cell_type": "code",
   "execution_count": null,
   "metadata": {},
   "outputs": [],
   "source": [
    "# Software Development experience\n",
    "country = 'United Kingdom'\n",
    "category = 'How many years of software development experience'\n",
    "result = describe_diff(df, year_dev, country=country, category=category)\n",
    "result"
   ]
  },
  {
   "cell_type": "code",
   "execution_count": null,
   "metadata": {},
   "outputs": [],
   "source": [
    "plot_density_func(df, year_dev, country, category)"
   ]
  },
  {
   "cell_type": "markdown",
   "metadata": {},
   "source": [
    "## United States"
   ]
  },
  {
   "cell_type": "code",
   "execution_count": null,
   "metadata": {},
   "outputs": [],
   "source": [
    "# Plotting the reported 'professional software developer'\n",
    "country = 'United States'\n",
    "category = 'Do you consider yourself a professional software developer'\n",
    "# Get the count\n",
    "result = count_diff(df, prof_dev, category=category, country=country, y_n=True)\n",
    "result"
   ]
  },
  {
   "cell_type": "code",
   "execution_count": null,
   "metadata": {},
   "outputs": [],
   "source": [
    "plot_cat_comparison(result, country, category)"
   ]
  },
  {
   "cell_type": "code",
   "execution_count": null,
   "metadata": {},
   "outputs": [],
   "source": [
    "# Software Development experience\n",
    "country = 'United States'\n",
    "category = 'How many years of software development experience'\n",
    "result = describe_diff(df, year_dev, country=country, category=category)\n",
    "result"
   ]
  },
  {
   "cell_type": "code",
   "execution_count": null,
   "metadata": {},
   "outputs": [],
   "source": [
    "plot_density_func(df, year_dev, country, category)"
   ]
  },
  {
   "cell_type": "markdown",
   "metadata": {},
   "source": [
    "## Rest of the World"
   ]
  },
  {
   "cell_type": "code",
   "execution_count": null,
   "metadata": {},
   "outputs": [],
   "source": [
    "# Plotting the reported 'professional software developer'\n",
    "country = 'World'\n",
    "category = 'Do you consider yourself a professional software developer'\n",
    "# Get the count\n",
    "result = count_diff(df, prof_dev, category=category, country=country, y_n=True)\n",
    "result"
   ]
  },
  {
   "cell_type": "code",
   "execution_count": null,
   "metadata": {},
   "outputs": [],
   "source": [
    "plot_cat_comparison(result, country, category)"
   ]
  },
  {
   "cell_type": "code",
   "execution_count": null,
   "metadata": {},
   "outputs": [],
   "source": [
    "# Software Development experience\n",
    "country = 'World'\n",
    "category = 'How many years of software development experience'\n",
    "result = describe_diff(df, year_dev, country=country, category=category)\n",
    "result"
   ]
  },
  {
   "cell_type": "code",
   "execution_count": null,
   "metadata": {
    "scrolled": true
   },
   "outputs": [],
   "source": [
    "plot_density_func(df,  year_dev, country, category)"
   ]
  }
 ],
 "metadata": {
  "kernelspec": {
   "display_name": "Python 3",
   "language": "python",
   "name": "python3"
  },
  "language_info": {
   "codemirror_mode": {
    "name": "ipython",
    "version": 3
   },
   "file_extension": ".py",
   "mimetype": "text/x-python",
   "name": "python",
   "nbconvert_exporter": "python",
   "pygments_lexer": "ipython3",
   "version": "3.6.7"
  },
  "toc": {
   "base_numbering": 1,
   "nav_menu": {
    "height": "216px",
    "width": "252px"
   },
   "number_sections": true,
   "sideBar": true,
   "skip_h1_title": false,
   "title_cell": "Table of Contents",
   "title_sidebar": "Contents",
   "toc_cell": true,
   "toc_position": {},
   "toc_section_display": "block",
   "toc_window_display": true
  }
 },
 "nbformat": 4,
 "nbformat_minor": 2
}
