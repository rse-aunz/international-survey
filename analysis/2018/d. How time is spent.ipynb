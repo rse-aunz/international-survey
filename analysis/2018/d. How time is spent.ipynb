{
 "cells": [
  {
   "cell_type": "markdown",
   "metadata": {
    "toc": true
   },
   "source": [
    "<h1>Table of Contents<span class=\"tocSkip\"></span></h1>\n",
    "<div class=\"toc\"><ul class=\"toc-item\"><li><span><a href=\"#Introduction\" data-toc-modified-id=\"Introduction-1\"><span class=\"toc-item-num\">1&nbsp;&nbsp;</span>Introduction</a></span><ul class=\"toc-item\"><li><span><a href=\"#Setting-up\" data-toc-modified-id=\"Setting-up-1.1\"><span class=\"toc-item-num\">1.1&nbsp;&nbsp;</span>Setting up</a></span></li></ul></li><li><span><a href=\"#How-time-is-spent\" data-toc-modified-id=\"How-time-is-spent-2\"><span class=\"toc-item-num\">2&nbsp;&nbsp;</span>How time is spent</a></span><ul class=\"toc-item\"><li><span><a href=\"#Australia\" data-toc-modified-id=\"Australia-2.1\"><span class=\"toc-item-num\">2.1&nbsp;&nbsp;</span>Australia</a></span></li><li><span><a href=\"#Germany\" data-toc-modified-id=\"Germany-2.2\"><span class=\"toc-item-num\">2.2&nbsp;&nbsp;</span>Germany</a></span></li><li><span><a href=\"#Netherlands\" data-toc-modified-id=\"Netherlands-2.3\"><span class=\"toc-item-num\">2.3&nbsp;&nbsp;</span>Netherlands</a></span></li><li><span><a href=\"#New-Zealand\" data-toc-modified-id=\"New-Zealand-2.4\"><span class=\"toc-item-num\">2.4&nbsp;&nbsp;</span>New Zealand</a></span></li><li><span><a href=\"#South-Africa\" data-toc-modified-id=\"South-Africa-2.5\"><span class=\"toc-item-num\">2.5&nbsp;&nbsp;</span>South Africa</a></span></li><li><span><a href=\"#United-Kingdom\" data-toc-modified-id=\"United-Kingdom-2.6\"><span class=\"toc-item-num\">2.6&nbsp;&nbsp;</span>United Kingdom</a></span></li><li><span><a href=\"#United-States\" data-toc-modified-id=\"United-States-2.7\"><span class=\"toc-item-num\">2.7&nbsp;&nbsp;</span>United States</a></span></li><li><span><a href=\"#Rest-of-the-World\" data-toc-modified-id=\"Rest-of-the-World-2.8\"><span class=\"toc-item-num\">2.8&nbsp;&nbsp;</span>Rest of the World</a></span></li></ul></li></ul></div>"
   ]
  },
  {
   "cell_type": "markdown",
   "metadata": {},
   "source": [
    "# Introduction"
   ]
  },
  {
   "cell_type": "markdown",
   "metadata": {},
   "source": [
    "## Setting up"
   ]
  },
  {
   "cell_type": "code",
   "execution_count": null,
   "metadata": {},
   "outputs": [],
   "source": [
    "%%capture  \n",
    "# Import notebook containing the imports the functions and the dataset\n",
    "%run \"./0. Imports and functions.ipynb\"\n",
    "\n",
    "# Import notebook containing sampled dataset\n",
    "%run \"./1. Overview and sampling.ipynb\""
   ]
  },
  {
   "cell_type": "markdown",
   "metadata": {},
   "source": [
    "# How time is spent"
   ]
  },
  {
   "cell_type": "markdown",
   "metadata": {},
   "source": [
    "RSE/RSE are supposed to be an hybrid role, compared to pure software developer. They bring a knowledge from their field but also are developing software. To capture this different tasks they may do during their work, we asked them how they spend their time. We specifically asked for the following questions:\n",
    "* On average, how much of your time is spent developing software\n",
    "* On average, how much of your time is spent on research\n",
    "* On average, how much of your time is spent on management\n",
    "* On average, how much of your time is spent on teaching\n",
    "* On average, how much of your time is spent on other activities\n",
    "\n",
    "They answered with a likert scale from *1 (None at all)* to *10 (All my time)*.\n",
    "\n",
    "The same questions asked them how much time they wanted to spend on these activities. With that it was possible to see if discrepancies exist between what they actual do and what they want to do. \n",
    "\n",
    "To calculate the difference between what they want and what they do, we only substract the answer they gave us to **wish to spent** the  with the answer they gave us to the **time spent**. It is therefore possible to understand the results as:\n",
    "1. The result is zero: it is a total adequation between what they do and what they want. \n",
    "1. The result is negative: They wish to spend less time to do that activity\n",
    "1. The result is positive: They wish to spend more time to do that activity\n",
    "\n"
   ]
  },
  {
   "cell_type": "code",
   "execution_count": null,
   "metadata": {},
   "outputs": [],
   "source": [
    "# Create the two df containing time spent and time they wish they could spend.\n",
    "\n",
    "# Information about time spent\n",
    "df_time_spent = df[df['Year'] == 2018][['Country',\n",
    "                                        'time1can. On average, how much of your time is spent developing software?',\n",
    "                                        'time2can. On average, how much of your time is spent on research',\n",
    "                                        'time3can. On average, how much of your time is spent on management',\n",
    "                                        'time4can. On average, how much of your time is spent on teaching',\n",
    "                                        'time5can. On average, how much of your time is spent on other activities']].copy()\n",
    "# Information about the time they wish to spend\n",
    "df_time_wish = df[df['Year'] == 2018][['Country',\n",
    "                                       'timeLike6zaf. In an average month, how much time would you like to spend on software development?',\n",
    "                                       'timeLike7zaf. In an average month, how much time would you like to spend on research',\n",
    "                                       'timeLike8zaf. In an average month, how much time would you like to spend on management',\n",
    "                                       'timeLike9zaf. In an average month, how much time would you like to spend on teaching',\n",
    "                                       'timeLike10zaf. In an average month, how much time would you like to spend on other activities']].copy()\n",
    "\n",
    "# Replace the value 1 (None at all) and 10 (all my time) into int\n",
    "df_time_spent.replace({'\\ufeff1 (None at all)': 1, '10 (All my time)': 10}, inplace=True)\n",
    "df_time_wish.replace({'\\ufeff1 (None at all)': 1, '10 (All my time)': 10}, inplace=True)\n",
    "\n",
    "# Create a new dataframe with the difference between what they do and what they wish\n",
    "# Create a dataframe to show the difference\n",
    "dict_time_diff = collections.OrderedDict()\n",
    "dict_time_diff['Country'] = df_time_spent['Country']\n",
    "dict_time_diff['Software Development difference'] = df_time_wish['timeLike6zaf. In an average month, how much time would you like to spend on software development?'].astype(float) - df_time_spent['time1can. On average, how much of your time is spent developing software?'].astype(float)  \n",
    "dict_time_diff['Research difference'] = df_time_wish['timeLike7zaf. In an average month, how much time would you like to spend on research'].astype(float) - df_time_spent['time2can. On average, how much of your time is spent on research'].astype(float)\n",
    "dict_time_diff['Management difference'] = df_time_wish['timeLike8zaf. In an average month, how much time would you like to spend on management'].astype(float) -  df_time_spent['time3can. On average, how much of your time is spent on management'].astype(float)\n",
    "dict_time_diff['Teaching difference'] = df_time_wish['timeLike9zaf. In an average month, how much time would you like to spend on teaching'].astype(float) - df_time_spent['time4can. On average, how much of your time is spent on teaching'].astype(float)\n",
    "dict_time_diff['Other activity difference'] = df_time_wish['timeLike10zaf. In an average month, how much time would you like to spend on other activities'].astype(float) - df_time_spent['time5can. On average, how much of your time is spent on other activities'].astype(float)\n",
    "df_time_diff = pd.DataFrame.from_dict(dict_time_diff)\n",
    "\n",
    "renaming_col = ['Country', 'Developing software', 'Research', 'Management', 'Teaching', 'Other activities']\n",
    "df_time_spent.columns = renaming_col\n",
    "df_time_wish.columns = renaming_col\n",
    "df_time_diff.columns = renaming_col"
   ]
  },
  {
   "cell_type": "markdown",
   "metadata": {},
   "source": [
    "## Australia"
   ]
  },
  {
   "cell_type": "code",
   "execution_count": null,
   "metadata": {},
   "outputs": [],
   "source": [
    "country = 'Australia'"
   ]
  },
  {
   "cell_type": "code",
   "execution_count": null,
   "metadata": {},
   "outputs": [],
   "source": [
    "# Plotting the likert scale\n",
    "plotting_time_likert(country, df_time_spent, df_time_wish, df_time_diff)"
   ]
  },
  {
   "cell_type": "markdown",
   "metadata": {},
   "source": [
    "## Germany"
   ]
  },
  {
   "cell_type": "code",
   "execution_count": null,
   "metadata": {},
   "outputs": [],
   "source": [
    "country = 'Germany'"
   ]
  },
  {
   "cell_type": "code",
   "execution_count": null,
   "metadata": {},
   "outputs": [],
   "source": [
    "# Plotting the likert scale\n",
    "plotting_time_likert(country, df_time_spent, df_time_wish, df_time_diff)"
   ]
  },
  {
   "cell_type": "markdown",
   "metadata": {},
   "source": [
    "## Netherlands"
   ]
  },
  {
   "cell_type": "code",
   "execution_count": null,
   "metadata": {},
   "outputs": [],
   "source": [
    "country = 'Netherlands'"
   ]
  },
  {
   "cell_type": "code",
   "execution_count": null,
   "metadata": {},
   "outputs": [],
   "source": [
    "# Plotting the likert scale\n",
    "plotting_time_likert(country, df_time_spent)"
   ]
  },
  {
   "cell_type": "markdown",
   "metadata": {},
   "source": [
    "## New Zealand"
   ]
  },
  {
   "cell_type": "code",
   "execution_count": null,
   "metadata": {},
   "outputs": [],
   "source": [
    "country = 'New Zealand'"
   ]
  },
  {
   "cell_type": "code",
   "execution_count": null,
   "metadata": {},
   "outputs": [],
   "source": [
    "# Plotting the likert scale\n",
    "plotting_time_likert(country, df_time_spent, df_time_wish, df_time_diff)"
   ]
  },
  {
   "cell_type": "markdown",
   "metadata": {},
   "source": [
    "## South Africa"
   ]
  },
  {
   "cell_type": "code",
   "execution_count": null,
   "metadata": {},
   "outputs": [],
   "source": [
    "country = 'South Africa'"
   ]
  },
  {
   "cell_type": "code",
   "execution_count": null,
   "metadata": {},
   "outputs": [],
   "source": [
    "# Plotting the likert scale\n",
    "plotting_time_likert(country, df_time_spent, df_time_wish, df_time_diff)"
   ]
  },
  {
   "cell_type": "markdown",
   "metadata": {
    "collapsed": true
   },
   "source": [
    "## United Kingdom"
   ]
  },
  {
   "cell_type": "code",
   "execution_count": null,
   "metadata": {},
   "outputs": [],
   "source": [
    "country = 'United Kingdom'"
   ]
  },
  {
   "cell_type": "code",
   "execution_count": null,
   "metadata": {},
   "outputs": [],
   "source": [
    "# Plotting the likert scale\n",
    "plotting_time_likert(country, df_time_spent, df_time_wish, df_time_diff)"
   ]
  },
  {
   "cell_type": "markdown",
   "metadata": {},
   "source": [
    "## United States"
   ]
  },
  {
   "cell_type": "code",
   "execution_count": null,
   "metadata": {},
   "outputs": [],
   "source": [
    "country = 'United States'"
   ]
  },
  {
   "cell_type": "code",
   "execution_count": null,
   "metadata": {},
   "outputs": [],
   "source": [
    "# Plotting the likert scale\n",
    "plotting_time_likert(country, df_time_spent, df_time_wish, df_time_diff)"
   ]
  },
  {
   "cell_type": "markdown",
   "metadata": {},
   "source": [
    "## Rest of the World"
   ]
  },
  {
   "cell_type": "code",
   "execution_count": null,
   "metadata": {},
   "outputs": [],
   "source": [
    "country = 'World'"
   ]
  },
  {
   "cell_type": "code",
   "execution_count": null,
   "metadata": {
    "scrolled": true
   },
   "outputs": [],
   "source": [
    "# Plotting the likert scale\n",
    "plotting_time_likert(country, df_time_spent, df_time_wish, df_time_diff)"
   ]
  }
 ],
 "metadata": {
  "kernelspec": {
   "display_name": "Python 3",
   "language": "python",
   "name": "python3"
  },
  "language_info": {
   "codemirror_mode": {
    "name": "ipython",
    "version": 3
   },
   "file_extension": ".py",
   "mimetype": "text/x-python",
   "name": "python",
   "nbconvert_exporter": "python",
   "pygments_lexer": "ipython3",
   "version": "3.6.7"
  },
  "toc": {
   "base_numbering": 1,
   "nav_menu": {
    "height": "383px",
    "width": "252px"
   },
   "number_sections": true,
   "sideBar": true,
   "skip_h1_title": false,
   "title_cell": "Table of Contents",
   "title_sidebar": "Contents",
   "toc_cell": true,
   "toc_position": {},
   "toc_section_display": "block",
   "toc_window_display": true
  }
 },
 "nbformat": 4,
 "nbformat_minor": 2
}
