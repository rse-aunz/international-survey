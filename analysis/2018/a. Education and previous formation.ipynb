{
 "cells": [
  {
   "cell_type": "markdown",
   "metadata": {
    "toc": true
   },
   "source": [
    "<h1>Table of Contents<span class=\"tocSkip\"></span></h1>\n",
    "<div class=\"toc\"><ul class=\"toc-item\"><li><span><a href=\"#Introduction\" data-toc-modified-id=\"Introduction-1\"><span class=\"toc-item-num\">1&nbsp;&nbsp;</span>Introduction</a></span><ul class=\"toc-item\"><li><span><a href=\"#Setting-up\" data-toc-modified-id=\"Setting-up-1.1\"><span class=\"toc-item-num\">1.1&nbsp;&nbsp;</span>Setting up</a></span></li></ul></li><li><span><a href=\"#Levels-of-education\" data-toc-modified-id=\"Levels-of-education-2\"><span class=\"toc-item-num\">2&nbsp;&nbsp;</span>Levels of education</a></span><ul class=\"toc-item\"><li><span><a href=\"#Australia\" data-toc-modified-id=\"Australia-2.1\"><span class=\"toc-item-num\">2.1&nbsp;&nbsp;</span>Australia</a></span></li><li><span><a href=\"#Germany\" data-toc-modified-id=\"Germany-2.2\"><span class=\"toc-item-num\">2.2&nbsp;&nbsp;</span>Germany</a></span></li><li><span><a href=\"#Netherlands\" data-toc-modified-id=\"Netherlands-2.3\"><span class=\"toc-item-num\">2.3&nbsp;&nbsp;</span>Netherlands</a></span></li><li><span><a href=\"#New-Zealand\" data-toc-modified-id=\"New-Zealand-2.4\"><span class=\"toc-item-num\">2.4&nbsp;&nbsp;</span>New Zealand</a></span></li><li><span><a href=\"#South-Africa\" data-toc-modified-id=\"South-Africa-2.5\"><span class=\"toc-item-num\">2.5&nbsp;&nbsp;</span>South Africa</a></span></li><li><span><a href=\"#United-Kingdom\" data-toc-modified-id=\"United-Kingdom-2.6\"><span class=\"toc-item-num\">2.6&nbsp;&nbsp;</span>United Kingdom</a></span></li><li><span><a href=\"#United-States\" data-toc-modified-id=\"United-States-2.7\"><span class=\"toc-item-num\">2.7&nbsp;&nbsp;</span>United States</a></span></li><li><span><a href=\"#Rest-of-the-World\" data-toc-modified-id=\"Rest-of-the-World-2.8\"><span class=\"toc-item-num\">2.8&nbsp;&nbsp;</span>Rest of the World</a></span></li><li><span><a href=\"#Comparison-between-countries\" data-toc-modified-id=\"Comparison-between-countries-2.9\"><span class=\"toc-item-num\">2.9&nbsp;&nbsp;</span>Comparison between countries</a></span></li></ul></li><li><span><a href=\"#Academic-field-for-education-and-professional-development\" data-toc-modified-id=\"Academic-field-for-education-and-professional-development-3\"><span class=\"toc-item-num\">3&nbsp;&nbsp;</span>Academic field for education and professional development</a></span><ul class=\"toc-item\"><li><span><a href=\"#Australia\" data-toc-modified-id=\"Australia-3.1\"><span class=\"toc-item-num\">3.1&nbsp;&nbsp;</span>Australia</a></span></li><li><span><a href=\"#Germany\" data-toc-modified-id=\"Germany-3.2\"><span class=\"toc-item-num\">3.2&nbsp;&nbsp;</span>Germany</a></span></li><li><span><a href=\"#Netherlands\" data-toc-modified-id=\"Netherlands-3.3\"><span class=\"toc-item-num\">3.3&nbsp;&nbsp;</span>Netherlands</a></span></li><li><span><a href=\"#New-Zealand\" data-toc-modified-id=\"New-Zealand-3.4\"><span class=\"toc-item-num\">3.4&nbsp;&nbsp;</span>New Zealand</a></span></li><li><span><a href=\"#South-Africa\" data-toc-modified-id=\"South-Africa-3.5\"><span class=\"toc-item-num\">3.5&nbsp;&nbsp;</span>South Africa</a></span></li><li><span><a href=\"#United-Kingdom\" data-toc-modified-id=\"United-Kingdom-3.6\"><span class=\"toc-item-num\">3.6&nbsp;&nbsp;</span>United Kingdom</a></span></li><li><span><a href=\"#United-States\" data-toc-modified-id=\"United-States-3.7\"><span class=\"toc-item-num\">3.7&nbsp;&nbsp;</span>United States</a></span></li><li><span><a href=\"#Rest-of-the-world\" data-toc-modified-id=\"Rest-of-the-world-3.8\"><span class=\"toc-item-num\">3.8&nbsp;&nbsp;</span>Rest of the world</a></span></li><li><span><a href=\"#Comparison-between-countries\" data-toc-modified-id=\"Comparison-between-countries-3.9\"><span class=\"toc-item-num\">3.9&nbsp;&nbsp;</span>Comparison between countries</a></span></li></ul></li></ul></div>"
   ]
  },
  {
   "cell_type": "markdown",
   "metadata": {},
   "source": [
    "# Introduction"
   ]
  },
  {
   "cell_type": "markdown",
   "metadata": {},
   "source": [
    "This section contains the information about the type of education the participants have, as well as their highest degree obtained. \n",
    "Three questions were asked:\n",
    "* What is the highest level of education you have attained?\n",
    "* In which discipline is your highest academic qualification?\n",
    "* Which professional qualification do you hold?\n",
    "\n",
    "The first two questions are `one choice` type (a list of predefined answers), while the question about the professional qualification is a `free text` (they are free to enter any short text they want)."
   ]
  },
  {
   "cell_type": "markdown",
   "metadata": {},
   "source": [
    "## Setting up"
   ]
  },
  {
   "cell_type": "code",
   "execution_count": null,
   "metadata": {
    "scrolled": true
   },
   "outputs": [],
   "source": [
    "%%capture\n",
    "\n",
    "# Import notebook containing the imports the functions and the dataset\n",
    "%run \"./0. Imports and functions.ipynb\"\n",
    "\n",
    "# Import notebook containing sampled dataset\n",
    "%run \"./1. Overview and sampling.ipynb\""
   ]
  },
  {
   "cell_type": "code",
   "execution_count": null,
   "metadata": {
    "scrolled": true
   },
   "outputs": [],
   "source": [
    "plt.rcParams['figure.figsize'] = [20.0, 10.0]"
   ]
  },
  {
   "cell_type": "markdown",
   "metadata": {},
   "source": [
    "# Levels of education "
   ]
  },
  {
   "cell_type": "markdown",
   "metadata": {},
   "source": [
    "The education questions is tight to each countries as each of them have their own educative system. Therefore this section is separated between all countries.\n",
    "All of them had the same question:`What is the highest level of education you have attained?`\n",
    "\n",
    "The list of diploma was different for each country."
   ]
  },
  {
   "cell_type": "code",
   "execution_count": null,
   "metadata": {
    "scrolled": true
   },
   "outputs": [],
   "source": [
    "education_column = 'edu1. What is the highest level of education you have attained?'"
   ]
  },
  {
   "cell_type": "markdown",
   "metadata": {},
   "source": [
    "## Australia"
   ]
  },
  {
   "cell_type": "code",
   "execution_count": null,
   "metadata": {
    "scrolled": true
   },
   "outputs": [],
   "source": [
    "# Set up variables\n",
    "country = 'Australia'\n",
    "category = 'Highest level of education'\n",
    "\n",
    "# Get the count\n",
    "result = count_diff(df, columns=education_column, category=category, country=country)\n",
    "\n",
    "# Showing the results\n",
    "result"
   ]
  },
  {
   "cell_type": "code",
   "execution_count": null,
   "metadata": {
    "scrolled": false
   },
   "outputs": [],
   "source": [
    "plot_cat_comparison(result, country, category)"
   ]
  },
  {
   "cell_type": "markdown",
   "metadata": {},
   "source": [
    "## Germany"
   ]
  },
  {
   "cell_type": "code",
   "execution_count": null,
   "metadata": {
    "scrolled": true
   },
   "outputs": [],
   "source": [
    "# Set up variables\n",
    "country = 'Germany'\n",
    "category = 'Highest level of education'\n",
    "\n",
    "# Get the count\n",
    "result = count_diff(df, columns=education_column, category=category, country=country)\n",
    "\n",
    "# Showing the results\n",
    "result"
   ]
  },
  {
   "cell_type": "code",
   "execution_count": null,
   "metadata": {
    "scrolled": false
   },
   "outputs": [],
   "source": [
    "plot_cat_comparison(result, country, category)"
   ]
  },
  {
   "cell_type": "markdown",
   "metadata": {},
   "source": [
    "## Netherlands"
   ]
  },
  {
   "cell_type": "code",
   "execution_count": null,
   "metadata": {
    "scrolled": true
   },
   "outputs": [],
   "source": [
    "# Set up variables\n",
    "country = 'Netherlands'\n",
    "category = 'Highest level of education'\n",
    "\n",
    "# Get the count\n",
    "result = count_diff(df, columns=education_column, category=category, country=country)\n",
    "\n",
    "# Showing the results\n",
    "result"
   ]
  },
  {
   "cell_type": "code",
   "execution_count": null,
   "metadata": {
    "scrolled": false
   },
   "outputs": [],
   "source": [
    "plot_cat_comparison(result, country, category)"
   ]
  },
  {
   "cell_type": "markdown",
   "metadata": {},
   "source": [
    "## New Zealand"
   ]
  },
  {
   "cell_type": "code",
   "execution_count": null,
   "metadata": {
    "scrolled": true
   },
   "outputs": [],
   "source": [
    "# Set up variables\n",
    "country = 'New Zealand'\n",
    "category = 'Highest level of education'\n",
    "\n",
    "# Get the count\n",
    "result = count_diff(df, columns=education_column, category=category, country=country)\n",
    "\n",
    "# Showing the results\n",
    "result"
   ]
  },
  {
   "cell_type": "code",
   "execution_count": null,
   "metadata": {
    "scrolled": false
   },
   "outputs": [],
   "source": [
    "plot_cat_comparison(result, country, category)"
   ]
  },
  {
   "cell_type": "markdown",
   "metadata": {},
   "source": [
    "## South Africa"
   ]
  },
  {
   "cell_type": "code",
   "execution_count": null,
   "metadata": {
    "scrolled": true
   },
   "outputs": [],
   "source": [
    "# Set up variables\n",
    "country = 'South Africa'\n",
    "category = 'Highest level of education'\n",
    "\n",
    "# Get the count\n",
    "result = count_diff(df, columns=education_column, category=category, country=country)\n",
    "\n",
    "# Showing the results\n",
    "result"
   ]
  },
  {
   "cell_type": "code",
   "execution_count": null,
   "metadata": {
    "scrolled": false
   },
   "outputs": [],
   "source": [
    "plot_cat_comparison(result, country, category)"
   ]
  },
  {
   "cell_type": "markdown",
   "metadata": {},
   "source": [
    "## United Kingdom"
   ]
  },
  {
   "cell_type": "markdown",
   "metadata": {},
   "source": [
    "In 2018, the proportion of participants that hold a PhD is 70%. This majority confirm the tendency from last year with an increase of 2%. \n",
    "Only 20% holds a Master degree as the highest education, and 8% an Undergraduate degree."
   ]
  },
  {
   "cell_type": "code",
   "execution_count": null,
   "metadata": {
    "scrolled": true
   },
   "outputs": [],
   "source": [
    "# Get the count for the 2017 year\n",
    "country = 'United Kingdom'\n",
    "category = 'Highest level of education'\n",
    "\n",
    "# Get the count\n",
    "result = count_diff(df, columns=education_column, category=category, country=country)\n",
    "\n",
    "# Showing the results\n",
    "result"
   ]
  },
  {
   "cell_type": "code",
   "execution_count": null,
   "metadata": {
    "scrolled": false
   },
   "outputs": [],
   "source": [
    "plot_cat_comparison(result, country, category)"
   ]
  },
  {
   "cell_type": "markdown",
   "metadata": {},
   "source": [
    "## United States"
   ]
  },
  {
   "cell_type": "code",
   "execution_count": null,
   "metadata": {
    "scrolled": true
   },
   "outputs": [],
   "source": [
    "# Set up variables\n",
    "country = 'United States'\n",
    "category = 'Highest level of education'\n",
    "\n",
    "# Get the count\n",
    "result = count_diff(df, columns=education_column, category=category, country=country)\n",
    "\n",
    "# Showing the results\n",
    "result"
   ]
  },
  {
   "cell_type": "code",
   "execution_count": null,
   "metadata": {
    "scrolled": false
   },
   "outputs": [],
   "source": [
    "plot_cat_comparison(result, country, category)"
   ]
  },
  {
   "cell_type": "markdown",
   "metadata": {},
   "source": [
    "## Rest of the World"
   ]
  },
  {
   "cell_type": "markdown",
   "metadata": {},
   "source": [
    "For the rest of the world, the question is a `free text` type. Therefore, some cleaning are needed to render the results intelligible. \n",
    "After manually cleaning the data, it appears that a vast majority of participants hold a PhD (64%), while 14% have a Master degree and only 9% have an Undergraduate degree."
   ]
  },
  {
   "cell_type": "code",
   "execution_count": null,
   "metadata": {
    "scrolled": true
   },
   "outputs": [],
   "source": [
    "dict_values = {'phd': 'Doctorate', \n",
    "               'phd in progress': 'Doctorate',\n",
    "               'mphil to phd transfer': 'Doctorate',\n",
    "               'dr phil': 'Doctorate',\n",
    "               'master of science': 'Master degree',\n",
    "               'master': 'Master degree',\n",
    "               'masters': 'Master degree',\n",
    "               'master in science': 'Master degree',\n",
    "               'postgraduate': 'Master degree',\n",
    "               'msc': 'Master degree',\n",
    "               'bachelors degree': 'Undergraduate degree',\n",
    "               'bachelors  in computer science': 'Undergraduate degree',\n",
    "               'bachelor': 'Undergraduate degree',\n",
    "               'bachelors': 'Undergraduate degree',\n",
    "               'nan': np.NaN\n",
    "               }\n",
    "df.loc[df['Country'] == 'World', education_column] = df.loc[df['Country'] == 'World', education_column].str.replace('.', '').str.replace(\"'\", \"\").str.replace('degree', '').str.strip().str.lower()\n",
    "df.loc[df['Country'] == 'World', education_column] = df.loc[df['Country'] == 'World', education_column].replace(dict_values)"
   ]
  },
  {
   "cell_type": "code",
   "execution_count": null,
   "metadata": {
    "scrolled": false
   },
   "outputs": [],
   "source": [
    "# Set up variables\n",
    "country = 'World'\n",
    "category = 'Highest level of education'\n",
    "\n",
    "# Get the count\n",
    "result = count_diff(df, columns=education_column, category=category, country=country)\n",
    "\n",
    "# Showing the results\n",
    "result"
   ]
  },
  {
   "cell_type": "code",
   "execution_count": null,
   "metadata": {
    "scrolled": false
   },
   "outputs": [],
   "source": [
    "plot_cat_comparison(result, country, category)"
   ]
  },
  {
   "cell_type": "markdown",
   "metadata": {},
   "source": [
    "## Comparison between countries"
   ]
  },
  {
   "cell_type": "markdown",
   "metadata": {},
   "source": [
    "Even if the countries have different education levels, it is possible to match them on the common \"Doctorate\" and \"Master degree\". \n",
    "Therefore we compare them with these two equivalent levels and merge all others under the category \"other\"."
   ]
  },
  {
   "cell_type": "code",
   "execution_count": null,
   "metadata": {
    "scrolled": false
   },
   "outputs": [],
   "source": [
    "# Create dictionary to replace values. These values may not be present in the current df but are present in the\n",
    "# potential answers\n",
    "dict_values = {'PhD': 'Doctorate', \n",
    "               'AQF 10 - Doctoral Degree': 'Doctorate',\n",
    "               'HBO (Hoger beroepsonderwijs) Master': 'Master degree',\n",
    "               'WO (Wetenschappelijk onderwijs) Master': 'Master degree',\n",
    "               'AQF 9 - Masters Degree': 'Master degree'}\n",
    "list_value_to_keep = ['Doctorate', 'Master degree', np.NaN]\n",
    "\n",
    "# Replace the value in education\n",
    "df['education comparison'] = df[education_column].replace(dict_values)\n",
    "\n",
    "# Create a new columns if \"World\" if the country is not in the list\n",
    "def merge_edu(x):\n",
    "    if x in list_value_to_keep:\n",
    "        return x\n",
    "    elif x == np.NaN:\n",
    "        return x\n",
    "    else:\n",
    "        return 'Other'\n",
    "    \n",
    "# Apply the function to a new columns\n",
    "df['education comparison'] = df['education comparison'].apply(merge_edu)\n",
    "\n",
    "# Count the values per countries\n",
    "df_edu_comparison = df[['Country', 'education comparison']].groupby('Country')['education comparison'].value_counts().rename('Total count').reset_index()\n",
    "\n",
    "# Add a percentage of each type of diploma per countries\n",
    "df_edu_comparison['Percentage per countries'] = (df_edu_comparison['Total count'] / df_edu_comparison.groupby('Country')['Total count'].transform('sum')*100).round(2)\n",
    "\n",
    "# Display the results\n",
    "df_edu_comparison"
   ]
  },
  {
   "cell_type": "code",
   "execution_count": null,
   "metadata": {
    "scrolled": false
   },
   "outputs": [],
   "source": [
    "fig, ax = plt.subplots()\n",
    "df_plot = df_edu_comparison.pivot(index='Country', \n",
    "                        columns='education comparison', \n",
    "                        values='Percentage per countries')\n",
    "df_plot.plot(kind='barh',\n",
    "                  title='Percentage of Doctorate and Master per country',\n",
    "                  grid=False, ax=ax)\n",
    "\n",
    "ax.set(xlabel=\"Percentage\", ylabel=\"Country\")\n",
    "\n",
    "ax.invert_yaxis()  # when barh option, the bars are inverted \n",
    "ax.spines['top'].set_visible(False)\n",
    "ax.spines['right'].set_visible(False)\n",
    "ax.spines['left'].set_visible(False) \n",
    "for p in ax.patches:\n",
    "    if int(round(p.get_width())) > 0:\n",
    "        ax.annotate('{}%'.format(str(int(round(p.get_width())))), \n",
    "                                 (p.get_x() + p.get_width(), p.get_y()), \n",
    "                                  xytext=(5, -9),\n",
    "                                  textcoords='offset points')\n",
    "plt.show();"
   ]
  },
  {
   "cell_type": "markdown",
   "metadata": {},
   "source": [
    "# Academic field for education and professional development"
   ]
  },
  {
   "cell_type": "markdown",
   "metadata": {},
   "source": [
    "Alongside of question about education level we also asked the participants in which field they finished their highest level of education. \n",
    "Here again the propositions were specific to each countries so the comparison is difficult despite lot of overlapping in the categories. "
   ]
  },
  {
   "cell_type": "code",
   "execution_count": null,
   "metadata": {
    "scrolled": true
   },
   "outputs": [],
   "source": [
    "# Create a column that merge all education columns\n",
    "df_edu_field = df[['Year', 'Country']].copy()\n",
    "\n",
    "# There are numbers in some of the fields, removing them as they are not needed\n",
    "def remove_digit(s):\n",
    "    try:\n",
    "        return ''.join([i for i in s if not i.isdigit()])\n",
    "    except TypeError:\n",
    "        return s\n",
    "\n",
    "df['Academic field'] = df['edu2. In which discipline is your highest academic qualification?'].apply(remove_digit)\n",
    "columns = 'Academic field'\n",
    "\n",
    "prof_qual = ['edu4. List any professional qualifications you hold (eg. P. Eng, PMP, …)?']"
   ]
  },
  {
   "cell_type": "markdown",
   "metadata": {},
   "source": [
    "## Australia"
   ]
  },
  {
   "cell_type": "code",
   "execution_count": null,
   "metadata": {
    "scrolled": true
   },
   "outputs": [],
   "source": [
    "# Set up variables\n",
    "country = 'Australia'\n",
    "category = 'Field of education'\n",
    "result = count_diff(df, columns, country, category)"
   ]
  },
  {
   "cell_type": "code",
   "execution_count": null,
   "metadata": {
    "scrolled": false
   },
   "outputs": [],
   "source": [
    "plot_cat_comparison(result, country, 'Field of education')"
   ]
  },
  {
   "cell_type": "code",
   "execution_count": null,
   "metadata": {
    "scrolled": false
   },
   "outputs": [],
   "source": [
    "plot_wordcloud(df, country=country, category='Professional qualification', columns=prof_qual)"
   ]
  },
  {
   "cell_type": "markdown",
   "metadata": {},
   "source": [
    "## Germany"
   ]
  },
  {
   "cell_type": "code",
   "execution_count": null,
   "metadata": {
    "scrolled": false
   },
   "outputs": [],
   "source": [
    "# Set up variables\n",
    "country = 'Germany'\n",
    "category = 'Field of education'\n",
    "result = count_diff(df, columns, country, category)\n",
    "result"
   ]
  },
  {
   "cell_type": "code",
   "execution_count": null,
   "metadata": {
    "scrolled": false
   },
   "outputs": [],
   "source": [
    "plot_cat_comparison(result, country, category)"
   ]
  },
  {
   "cell_type": "code",
   "execution_count": null,
   "metadata": {
    "scrolled": false
   },
   "outputs": [],
   "source": [
    "plot_wordcloud(df, country=country, category='Professional qualification', columns=prof_qual)"
   ]
  },
  {
   "cell_type": "markdown",
   "metadata": {},
   "source": [
    "## Netherlands"
   ]
  },
  {
   "cell_type": "code",
   "execution_count": null,
   "metadata": {
    "scrolled": false
   },
   "outputs": [],
   "source": [
    "# Set up variables\n",
    "country = 'Netherlands'\n",
    "category = 'Field of education'\n",
    "result = count_diff(df, columns, country, category)\n",
    "result"
   ]
  },
  {
   "cell_type": "code",
   "execution_count": null,
   "metadata": {
    "scrolled": false
   },
   "outputs": [],
   "source": [
    "plot_cat_comparison(result, country, category)"
   ]
  },
  {
   "cell_type": "code",
   "execution_count": null,
   "metadata": {
    "scrolled": false
   },
   "outputs": [],
   "source": [
    "plot_wordcloud(df, country=country, category='Professional qualification', columns=prof_qual)"
   ]
  },
  {
   "cell_type": "markdown",
   "metadata": {},
   "source": [
    "## New Zealand"
   ]
  },
  {
   "cell_type": "code",
   "execution_count": null,
   "metadata": {
    "scrolled": false
   },
   "outputs": [],
   "source": [
    "# Set up variables\n",
    "country = 'New Zealand'\n",
    "category = 'Field of education'\n",
    "result = count_diff(df, columns, country, category)\n",
    "result"
   ]
  },
  {
   "cell_type": "code",
   "execution_count": null,
   "metadata": {
    "scrolled": false
   },
   "outputs": [],
   "source": [
    "plot_cat_comparison(result, country, category)"
   ]
  },
  {
   "cell_type": "code",
   "execution_count": null,
   "metadata": {
    "scrolled": false
   },
   "outputs": [],
   "source": [
    "plot_wordcloud(df, country=country, category='Professional qualification', columns=prof_qual)"
   ]
  },
  {
   "cell_type": "markdown",
   "metadata": {},
   "source": [
    "## South Africa"
   ]
  },
  {
   "cell_type": "code",
   "execution_count": null,
   "metadata": {
    "scrolled": false
   },
   "outputs": [],
   "source": [
    "# Set up variables\n",
    "country = 'South Africa'\n",
    "category = 'Field of education'\n",
    "result = count_diff(df, columns, country, category)\n",
    "result"
   ]
  },
  {
   "cell_type": "code",
   "execution_count": null,
   "metadata": {
    "scrolled": false
   },
   "outputs": [],
   "source": [
    "plot_cat_comparison(result, country, category)"
   ]
  },
  {
   "cell_type": "code",
   "execution_count": null,
   "metadata": {
    "scrolled": false
   },
   "outputs": [],
   "source": [
    "plot_wordcloud(df, country=country, category='Professional qualification', columns=prof_qual)"
   ]
  },
  {
   "cell_type": "markdown",
   "metadata": {},
   "source": [
    "## United Kingdom"
   ]
  },
  {
   "cell_type": "code",
   "execution_count": null,
   "metadata": {},
   "outputs": [],
   "source": [
    "# Set up variables\n",
    "country = 'United Kingdom'\n",
    "category = 'Field of education'\n",
    "result = count_diff(df, columns, country, category)\n",
    "result"
   ]
  },
  {
   "cell_type": "code",
   "execution_count": null,
   "metadata": {
    "scrolled": false
   },
   "outputs": [],
   "source": [
    "plot_cat_comparison(result, country, category)"
   ]
  },
  {
   "cell_type": "code",
   "execution_count": null,
   "metadata": {
    "scrolled": false
   },
   "outputs": [],
   "source": [
    "plot_wordcloud(df, country=country, category='Professional qualification', columns=prof_qual)"
   ]
  },
  {
   "cell_type": "markdown",
   "metadata": {},
   "source": [
    "## United States"
   ]
  },
  {
   "cell_type": "code",
   "execution_count": null,
   "metadata": {
    "scrolled": false
   },
   "outputs": [],
   "source": [
    "# Set up variables\n",
    "country = 'United States'\n",
    "category = 'Field of education'\n",
    "result = count_diff(df, columns, country, category)\n",
    "result"
   ]
  },
  {
   "cell_type": "code",
   "execution_count": null,
   "metadata": {
    "scrolled": false
   },
   "outputs": [],
   "source": [
    "plot_cat_comparison(result, country, category)"
   ]
  },
  {
   "cell_type": "code",
   "execution_count": null,
   "metadata": {
    "scrolled": false
   },
   "outputs": [],
   "source": [
    "plot_wordcloud(df, country=country, category='Professional qualification', columns=prof_qual)"
   ]
  },
  {
   "cell_type": "markdown",
   "metadata": {},
   "source": [
    "## Rest of the world"
   ]
  },
  {
   "cell_type": "code",
   "execution_count": null,
   "metadata": {
    "scrolled": false
   },
   "outputs": [],
   "source": [
    "# Set up variables\n",
    "country = 'World'\n",
    "category = 'Field of education'\n",
    "result = count_diff(df, columns, country, category)\n",
    "result"
   ]
  },
  {
   "cell_type": "code",
   "execution_count": null,
   "metadata": {
    "scrolled": false
   },
   "outputs": [],
   "source": [
    "plot_cat_comparison(result, country, category)"
   ]
  },
  {
   "cell_type": "code",
   "execution_count": null,
   "metadata": {
    "scrolled": false
   },
   "outputs": [],
   "source": [
    "plot_wordcloud(df, country=country, category='Professional qualification', columns=prof_qual)"
   ]
  },
  {
   "cell_type": "markdown",
   "metadata": {},
   "source": [
    "## Comparison between countries"
   ]
  },
  {
   "cell_type": "code",
   "execution_count": null,
   "metadata": {
    "scrolled": true
   },
   "outputs": [],
   "source": [
    "# Count the values per countries\n",
    "#df_edu_comparison = df_edu_field.groupby('Country')['Academic field'].value_counts().rename('Total count').reset_index()\n",
    "\n",
    "# Add a percentage of each type of diploma per countries\n",
    "#df_edu_comparison['Percentage per countries'] = (df_edu_comparison['Total count'] / df_edu_comparison.groupby('Country')['Total count'].transform('sum')*100)\n",
    "\n",
    "# Display the results\n",
    "#df_edu_comparison"
   ]
  },
  {
   "cell_type": "code",
   "execution_count": null,
   "metadata": {
    "scrolled": true
   },
   "outputs": [],
   "source": [
    "#fig, ax = plt.subplots()\n",
    "#df_plot = df_edu_comparison.pivot(index='Country', \n",
    "#                        columns='Academic field', \n",
    "#                        values='Percentage per countries')\n",
    "\n",
    "#df_plot.plot(kind='barh',\n",
    "#                  title='Percentage of academic field per country',\n",
    "#                  grid=False, ax=ax, stacked=True)\n",
    "\n",
    "#ax.set(xlabel=\"Country\", ylabel=\"Percentage\")\n",
    "\n",
    "#ax.invert_yaxis()  # when barh option, the bars are inverted \n",
    "#ax.spines['top'].set_visible(False)\n",
    "#ax.spines['right'].set_visible(False)\n",
    "#ax.spines['left'].set_visible(False) \n",
    "# Put a legend below current axis\n",
    "#ax.legend(loc='upper center', bbox_to_anchor=(0.5, -0.1),\n",
    "#          fancybox=True, shadow=True, ncol=5)\n",
    "#for p in ax.patches:\n",
    "#    if int(round(p.get_width())) >= 5:\n",
    "#        ax.annotate('{}%'.format(str(int(round(p.get_width())))), \n",
    "#                    (p.get_x() + int(p.get_width())/2., p.get_y()+ int(p.get_height())/2.),\n",
    "#                    ha='center')\n",
    "\n",
    "#plt.show();"
   ]
  }
 ],
 "metadata": {
  "kernelspec": {
   "display_name": "Python 3",
   "language": "python",
   "name": "python3"
  },
  "language_info": {
   "codemirror_mode": {
    "name": "ipython",
    "version": 3
   },
   "file_extension": ".py",
   "mimetype": "text/x-python",
   "name": "python",
   "nbconvert_exporter": "python",
   "pygments_lexer": "ipython3",
   "version": "3.6.7"
  },
  "toc": {
   "base_numbering": 1,
   "nav_menu": {
    "height": "451px",
    "width": "252px"
   },
   "number_sections": true,
   "sideBar": true,
   "skip_h1_title": false,
   "title_cell": "Table of Contents",
   "title_sidebar": "Contents",
   "toc_cell": true,
   "toc_position": {
    "height": "calc(100% - 180px)",
    "left": "10px",
    "top": "150px",
    "width": "280px"
   },
   "toc_section_display": "block",
   "toc_window_display": true
  }
 },
 "nbformat": 4,
 "nbformat_minor": 2
}
