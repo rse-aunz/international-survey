{
 "cells": [
  {
   "cell_type": "markdown",
   "metadata": {
    "toc": true
   },
   "source": [
    "<h1>Table of Contents<span class=\"tocSkip\"></span></h1>\n",
    "<div class=\"toc\"><ul class=\"toc-item\"><li><span><a href=\"#Introduction\" data-toc-modified-id=\"Introduction-1\"><span class=\"toc-item-num\">1&nbsp;&nbsp;</span>Introduction</a></span><ul class=\"toc-item\"><li><span><a href=\"#Setup\" data-toc-modified-id=\"Setup-1.1\"><span class=\"toc-item-num\">1.1&nbsp;&nbsp;</span>Setup</a></span></li><li><span><a href=\"#Cleaning\" data-toc-modified-id=\"Cleaning-1.2\"><span class=\"toc-item-num\">1.2&nbsp;&nbsp;</span>Cleaning</a></span><ul class=\"toc-item\"><li><span><a href=\"#Rename-US-and-UK\" data-toc-modified-id=\"Rename-US-and-UK-1.2.1\"><span class=\"toc-item-num\">1.2.1&nbsp;&nbsp;</span>Rename US and UK</a></span></li><li><span><a href=\"#Create-a-category-world\" data-toc-modified-id=\"Create-a-category-world-1.2.2\"><span class=\"toc-item-num\">1.2.2&nbsp;&nbsp;</span>Create a category world</a></span></li></ul></li></ul></li><li><span><a href=\"#Overview\" data-toc-modified-id=\"Overview-2\"><span class=\"toc-item-num\">2&nbsp;&nbsp;</span>Overview</a></span><ul class=\"toc-item\"><li><span><a href=\"#Total-participants\" data-toc-modified-id=\"Total-participants-2.1\"><span class=\"toc-item-num\">2.1&nbsp;&nbsp;</span>Total participants</a></span></li><li><span><a href=\"#Repartition-per-country\" data-toc-modified-id=\"Repartition-per-country-2.2\"><span class=\"toc-item-num\">2.2&nbsp;&nbsp;</span>Repartition per country</a></span></li><li><span><a href=\"#Visual-representation-of-countries-repartition\" data-toc-modified-id=\"Visual-representation-of-countries-repartition-2.3\"><span class=\"toc-item-num\">2.3&nbsp;&nbsp;</span>Visual representation of countries repartition</a></span></li><li><span><a href=\"#Date-of-participation\" data-toc-modified-id=\"Date-of-participation-2.4\"><span class=\"toc-item-num\">2.4&nbsp;&nbsp;</span>Date of participation</a></span></li><li><span><a href=\"#Difference-with-the-previous-year\" data-toc-modified-id=\"Difference-with-the-previous-year-2.5\"><span class=\"toc-item-num\">2.5&nbsp;&nbsp;</span>Difference with the previous year</a></span></li></ul></li><li><span><a href=\"#Subsetting\" data-toc-modified-id=\"Subsetting-3\"><span class=\"toc-item-num\">3&nbsp;&nbsp;</span>Subsetting</a></span><ul class=\"toc-item\"><li><span><a href=\"#Selecting-valid-participants-only\" data-toc-modified-id=\"Selecting-valid-participants-only-3.1\"><span class=\"toc-item-num\">3.1&nbsp;&nbsp;</span>Selecting valid participants only</a></span></li></ul></li></ul></div>"
   ]
  },
  {
   "cell_type": "markdown",
   "metadata": {},
   "source": [
    "# Introduction"
   ]
  },
  {
   "cell_type": "markdown",
   "metadata": {},
   "source": [
    "This notebook gives an overview of the participants per country. From where they come from and when they started the survey. It also gives the difference with the previous year for the countries that participated in 2017.\n",
    "\n",
    "Alongside this information, it also subset the relevant participants for future analysis. Only the participants that have finished at least the first section and the ones that report to develop program for their work, or lead research developers, are kept."
   ]
  },
  {
   "cell_type": "markdown",
   "metadata": {},
   "source": [
    "## Setup"
   ]
  },
  {
   "cell_type": "code",
   "execution_count": null,
   "metadata": {},
   "outputs": [],
   "source": [
    "%%capture  \n",
    "# Import notebook containing the imports the functions and the dataset\n",
    "%run \"./0. Imports and functions.ipynb\""
   ]
  },
  {
   "cell_type": "code",
   "execution_count": null,
   "metadata": {},
   "outputs": [],
   "source": [
    "get_ipython().magic('matplotlib inline')  # Activate that line to use in Jupyter \n",
    "matplotlib.rcParams['figure.figsize'] = (20.0, 10.0)\n",
    "plt.rcParams['figure.figsize'] = (20.0, 10.0)"
   ]
  },
  {
   "cell_type": "code",
   "execution_count": null,
   "metadata": {},
   "outputs": [],
   "source": [
    "# Loading dataset\n",
    "df =  pd.read_csv('./data/clean_merged.csv')"
   ]
  },
  {
   "cell_type": "markdown",
   "metadata": {},
   "source": [
    "## Cleaning"
   ]
  },
  {
   "cell_type": "markdown",
   "metadata": {},
   "source": [
    "The cleaning is about renaming some countries and create a globa category for all countries that are not from one of the participating countries. "
   ]
  },
  {
   "cell_type": "markdown",
   "metadata": {},
   "source": [
    "### Rename US and UK"
   ]
  },
  {
   "cell_type": "code",
   "execution_count": null,
   "metadata": {},
   "outputs": [],
   "source": [
    "# Rename the Uk and US\n",
    "df['socio1. In which country do you work?'].replace({'United Kingdom of Great Britain and Northern Ireland': \"United Kingdom\",\n",
    "            'United States of America': 'United States'}, inplace=True)\n",
    "\n",
    "# Drop Canada\n",
    "df = df[df['socio1. In which country do you work?'] != 'Canada']"
   ]
  },
  {
   "cell_type": "markdown",
   "metadata": {},
   "source": [
    "### Create a category world"
   ]
  },
  {
   "cell_type": "markdown",
   "metadata": {},
   "source": [
    "As said, we are concerned about some countries specifically. However, we collected information about other countries as well. To avoid any confusion and having too much countries to plot, we group all of them into one category \"world\""
   ]
  },
  {
   "cell_type": "code",
   "execution_count": null,
   "metadata": {},
   "outputs": [],
   "source": [
    "# Create a list of all countries of interest\n",
    "list_countries = ['United Kingdom', 'Australia', 'United States', 'Germany', 'New Zealand', 'Netherlands', 'South Africa']\n",
    "\n",
    "# Create a new columns if \"World\" if the country is not in the list\n",
    "df['Country'] = df['socio1. In which country do you work?'].apply(lambda x: x if x in list_countries else 'World')"
   ]
  },
  {
   "cell_type": "markdown",
   "metadata": {},
   "source": [
    "# Overview"
   ]
  },
  {
   "cell_type": "markdown",
   "metadata": {},
   "source": [
    "## Total participants"
   ]
  },
  {
   "cell_type": "markdown",
   "metadata": {},
   "source": [
    "This is the total of participants. A participants is defined as a person that have reached, at least the second section in the survey."
   ]
  },
  {
   "cell_type": "code",
   "execution_count": null,
   "metadata": {},
   "outputs": [],
   "source": [
    "len(df[df['Year']== 2018])"
   ]
  },
  {
   "cell_type": "markdown",
   "metadata": {},
   "source": [
    "## Repartition per country"
   ]
  },
  {
   "cell_type": "markdown",
   "metadata": {},
   "source": [
    "We developed specific questions for the following countries:\n",
    "* Australia\n",
    "* Canada (but host their own version of the survey so they will not be analysed here)\n",
    "* Germany\n",
    "* Netherlands\n",
    "* New Zealand\n",
    "* South Africa\n",
    "* United Kingdom\n",
    "* United States\n",
    "\n",
    "We can see the distribution of participants among the countries as follow:"
   ]
  },
  {
   "cell_type": "code",
   "execution_count": null,
   "metadata": {},
   "outputs": [],
   "source": [
    "# Output the count per countries\n",
    "df[df['Year']== 2018]['socio1. In which country do you work?'].value_counts().to_frame()"
   ]
  },
  {
   "cell_type": "markdown",
   "metadata": {},
   "source": [
    "## Visual representation of countries repartition"
   ]
  },
  {
   "cell_type": "code",
   "execution_count": null,
   "metadata": {},
   "outputs": [],
   "source": [
    "df_countries = df[df['Year']== 2018]['socio1. In which country do you work?'].value_counts().to_frame().reset_index()\n",
    "df_countries.columns = ['name', 'count'] "
   ]
  },
  {
   "cell_type": "code",
   "execution_count": null,
   "metadata": {},
   "outputs": [],
   "source": [
    "df_map = gpd.read_file(gpd.datasets.get_path('naturalearth_lowres'))\n",
    "# Merge datasets together and replace nan with 0\n",
    "df_map = df_map.merge(df_countries, on='name', how='outer')\n",
    "df_map.fillna(0, inplace=True)"
   ]
  },
  {
   "cell_type": "code",
   "execution_count": null,
   "metadata": {},
   "outputs": [],
   "source": [
    "def transform_int_to_cat(x):\n",
    "    if x == 0:\n",
    "        return '0'\n",
    "    elif x > 0 and x <= 5:\n",
    "        return '1 - 5'\n",
    "    elif x >5 and x <10:\n",
    "        return '6 - 10'\n",
    "    elif x >10 and x <=25:\n",
    "        return '11 - 25'\n",
    "    elif x > 25 and x <= 50:\n",
    "        return '26 - 50'\n",
    "    elif x > 50 and x <=100:\n",
    "        return '51 - 100'\n",
    "    elif x > 100 and x <=200:\n",
    "        return '101 - 200'\n",
    "    elif x > 200:\n",
    "        return '200+'\n",
    "    else:\n",
    "        raise\n",
    "df_map['count_cat'] = df_map['count'].apply(lambda x: transform_int_to_cat(x))"
   ]
  },
  {
   "cell_type": "code",
   "execution_count": null,
   "metadata": {},
   "outputs": [],
   "source": [
    "list_ordering = ['0', '1 - 5', '6 - 10', '11 - 25', '26 - 50', '51 - 100', '101 - 200', '200+']  \n",
    "df_map['count_cat'] = pd.Categorical(df_map['count_cat'], categories=list_ordering)\n",
    "df_map = df_map.sort_values(['count'])"
   ]
  },
  {
   "cell_type": "code",
   "execution_count": null,
   "metadata": {},
   "outputs": [],
   "source": [
    "fig, ax = plt.subplots(1)\n",
    "ax = df_map.plot(ax=ax, column='count', cmap='Reds', linewidth=0.8, edgecolor='0.8', legend=False, categorical=True)\n",
    "\n",
    "# Add the description\n",
    "description = \"\"\"\"Number of participants per country\"\"\"\n",
    "#ax.annotate(description, xy=(0.1, .08), xycoords='figure fraction', horizontalalignment='left', verticalalignment='top', fontsize=12, color='#555555')\n",
    "# Remove axis\n",
    "ax.axis('off')\n",
    "plt.show();"
   ]
  },
  {
   "cell_type": "markdown",
   "metadata": {},
   "source": [
    "## Date of participation"
   ]
  },
  {
   "cell_type": "code",
   "execution_count": null,
   "metadata": {},
   "outputs": [],
   "source": [
    "def convert_time(x):\n",
    "    \"\"\"\"\"\"\n",
    "    try:\n",
    "        return datetime.datetime.strptime(str(x),'%Y-%m-%d %H:%M:%S').date()\n",
    "\n",
    "    except ValueError:\n",
    "        return x\n",
    "\n",
    "df['Date'] = df['startdate. Date started'].apply(lambda x: convert_time(x))\n",
    "df_submission_per_country = df[['Country', 'Date']]#.dropna()\n",
    "total_per_country = df_submission_per_country.groupby(['Country'])['Date'].value_counts().to_frame()\n",
    "total_per_country.columns = ['Count']\n",
    "total_per_country = total_per_country.reset_index().sort_values(['Date', 'Country'], ascending=True)"
   ]
  },
  {
   "cell_type": "code",
   "execution_count": null,
   "metadata": {},
   "outputs": [],
   "source": [
    "fig, axes = plt.subplots(2, 4, figsize=(20, 10))\n",
    "fig.tight_layout()\n",
    "fig.subplots_adjust(hspace=0.5)\n",
    "list_plots = list()\n",
    "for i, name in enumerate(total_per_country['Country'].unique()):\n",
    "    if i < 4:\n",
    "        a = 0\n",
    "        b = i\n",
    "    else:\n",
    "        a = 1\n",
    "        b = 5 - i    \n",
    "    axes[a, b] = total_per_country[total_per_country.Country == name].plot(x='Date', y='Count', legend=False, ax=axes[a, b])\n",
    "    axes[a, b].set_title('{}'.format(name))\n",
    "    #axes[a, b].set_xticklabels(labels=idx)\n",
    "\n",
    "    axes[a, b].xaxis.set_major_locator(mdates.DayLocator(interval=10))   # every 10 days\n",
    "    axes[a, b].xaxis.set_minor_locator(mdates.DayLocator(interval=1))    # every day\n",
    "    for label in axes[a, b].get_xticklabels():\n",
    "        label.set_rotation(45) \n",
    "    list_plots.append(axes[a, b])\n",
    "\n",
    "for ax in list_plots:\n",
    "    ax.set(xlabel=\"Date of submission\", ylabel=\"Count\")\n",
    "    ax.spines['top'].set_visible(False)\n",
    "    ax.spines['right'].set_visible(False)\n",
    "    ax.spines['left'].set_visible(False)\n",
    "\n",
    "plt.show();"
   ]
  },
  {
   "cell_type": "markdown",
   "metadata": {},
   "source": [
    "## Difference with the previous year"
   ]
  },
  {
   "cell_type": "markdown",
   "metadata": {},
   "source": [
    "Several countries did the survey last year, here a summary of the difference in the amount of participants."
   ]
  },
  {
   "cell_type": "code",
   "execution_count": null,
   "metadata": {},
   "outputs": [],
   "source": [
    "results = dict()\n",
    "for country in df[df['Year']== 2017]['Country'].unique():\n",
    "    current_year = df[df['Year']== 2018]['Country'].value_counts()[country]\n",
    "    previous_year = df[df['Year']== 2017]['Country'].value_counts()[country]\n",
    "    results[country] = {'2017': previous_year, '2018': current_year}\n",
    "diff_year_participants = pd.DataFrame.from_dict(results, orient='index')\n",
    "diff_year_participants['Difference between 2017 and 2018'] = diff_year_participants['2018'] - diff_year_participants['2017']\n",
    "\n",
    "# Displaying the results\n",
    "diff_year_participants"
   ]
  },
  {
   "cell_type": "code",
   "execution_count": null,
   "metadata": {},
   "outputs": [],
   "source": [
    "# Plotting the difference\n",
    "ax = diff_year_participants.plot(kind='bar')\n",
    "ax.spines['top'].set_visible(False)\n",
    "ax.spines['right'].set_visible(False)\n",
    "ax.spines['left'].set_visible(False) \n",
    "\n",
    "plt.show();"
   ]
  },
  {
   "cell_type": "markdown",
   "metadata": {},
   "source": [
    "# Subsetting"
   ]
  },
  {
   "cell_type": "markdown",
   "metadata": {},
   "source": [
    "## Selecting valid participants only"
   ]
  },
  {
   "cell_type": "markdown",
   "metadata": {},
   "source": [
    "On the total of participants, we only want the participants that code software during their work. \n",
    "We had a specific question for this purpose. We asked the participants if they are writing software or if they are leading a group of software developers. Each of these questions had the possibility of Yes/No answer. Here the exact wording of the questions:\n",
    "\n",
    "* Do you write software for academic research as part of your job\n",
    "* Does the majority of your role comprise leading a group of software developers or RSEs?\n",
    "\n",
    "We will only select the participants who answered `Yes` to at least one question."
   ]
  },
  {
   "cell_type": "code",
   "execution_count": null,
   "metadata": {},
   "outputs": [],
   "source": [
    "# Get the count of Y/N for the software developers\n",
    "soft_dev = df['rse1. Do you write software for academic research as part of your job'].value_counts().to_frame()\n",
    "\n",
    "# Get the count of Y/N for the leader developers\n",
    "soft_lead = df['rse4de. Does the majority of your role comprise leading a group of software developers or RSEs?'].value_counts().to_frame()\n",
    "\n",
    "# Get the count for Y/N to any of the question\n",
    "df['any_rse'] = np.where((df['rse1. Do you write software for academic research as part of your job'] == 'Yes') | (df['rse4de. Does the majority of your role comprise leading a group of software developers or RSEs?']), 'Yes', 'No')\n",
    "soft_any = df['any_rse'].value_counts().to_frame()\n",
    "\n",
    "# Create one df\n",
    "result = pd.concat([soft_dev, soft_lead, soft_any], axis=1, sort=False)\n",
    "\n",
    "# Rename columns\n",
    "result.columns = ['Write software', 'Lead a team of software developers', 'At least one of the two']\n",
    "result"
   ]
  },
  {
   "cell_type": "markdown",
   "metadata": {},
   "source": [
    "This table is for both 2017 and 2018 year. For any further analysis, we remove the participants that answered 'No' at both of the question to only keep the ones that have work involving software development for both year to ensure a proper comparison. "
   ]
  },
  {
   "cell_type": "code",
   "execution_count": null,
   "metadata": {},
   "outputs": [],
   "source": [
    "# Filtering the df\n",
    "df = df[df['any_rse'] == 'Yes']\n",
    "# drop the column `any_rse` as no use anymore\n",
    "df.drop(['any_rse'], axis=1, inplace=True)"
   ]
  },
  {
   "cell_type": "markdown",
   "metadata": {},
   "source": [
    "This brings the number of participants analysed to:"
   ]
  },
  {
   "cell_type": "code",
   "execution_count": null,
   "metadata": {},
   "outputs": [],
   "source": [
    "results = pd.DataFrame.from_dict([{'Participants in 2017': len(df[df['Year'] == 2017]), \n",
    " 'Participants in 2018': len(df[df['Year'] == 2018])}])\n",
    "results"
   ]
  }
 ],
 "metadata": {
  "kernelspec": {
   "display_name": "Python 3",
   "language": "python",
   "name": "python3"
  },
  "language_info": {
   "codemirror_mode": {
    "name": "ipython",
    "version": 3
   },
   "file_extension": ".py",
   "mimetype": "text/x-python",
   "name": "python",
   "nbconvert_exporter": "python",
   "pygments_lexer": "ipython3",
   "version": "3.6.7"
  },
  "toc": {
   "base_numbering": 1,
   "nav_menu": {
    "height": "191px",
    "width": "252px"
   },
   "number_sections": true,
   "sideBar": true,
   "skip_h1_title": false,
   "title_cell": "Table of Contents",
   "title_sidebar": "Contents",
   "toc_cell": true,
   "toc_position": {},
   "toc_section_display": "block",
   "toc_window_display": true
  }
 },
 "nbformat": 4,
 "nbformat_minor": 2
}
