{
 "cells": [
  {
   "cell_type": "markdown",
   "metadata": {
    "toc": true
   },
   "source": [
    "<h1>Table of Contents<span class=\"tocSkip\"></span></h1>\n",
    "<div class=\"toc\"><ul class=\"toc-item\"><li><span><a href=\"#Introduction\" data-toc-modified-id=\"Introduction-1\"><span class=\"toc-item-num\">1&nbsp;&nbsp;</span>Introduction</a></span><ul class=\"toc-item\"><li><span><a href=\"#Setting-up\" data-toc-modified-id=\"Setting-up-1.1\"><span class=\"toc-item-num\">1.1&nbsp;&nbsp;</span>Setting up</a></span></li></ul></li><li><span><a href=\"#Job-Satisfaction\" data-toc-modified-id=\"Job-Satisfaction-2\"><span class=\"toc-item-num\">2&nbsp;&nbsp;</span>Job Satisfaction</a></span><ul class=\"toc-item\"><li><span><a href=\"#Australia\" data-toc-modified-id=\"Australia-2.1\"><span class=\"toc-item-num\">2.1&nbsp;&nbsp;</span>Australia</a></span><ul class=\"toc-item\"><li><span><a href=\"#General-satisfaction\" data-toc-modified-id=\"General-satisfaction-2.1.1\"><span class=\"toc-item-num\">2.1.1&nbsp;&nbsp;</span>General satisfaction</a></span></li><li><span><a href=\"#Recognition\" data-toc-modified-id=\"Recognition-2.1.2\"><span class=\"toc-item-num\">2.1.2&nbsp;&nbsp;</span>Recognition</a></span></li><li><span><a href=\"#Turn-over-intention\" data-toc-modified-id=\"Turn-over-intention-2.1.3\"><span class=\"toc-item-num\">2.1.3&nbsp;&nbsp;</span>Turn-over intention</a></span></li><li><span><a href=\"#Perceived-employability\" data-toc-modified-id=\"Perceived-employability-2.1.4\"><span class=\"toc-item-num\">2.1.4&nbsp;&nbsp;</span>Perceived employability</a></span></li><li><span><a href=\"#Progression-in-the-current-role\" data-toc-modified-id=\"Progression-in-the-current-role-2.1.5\"><span class=\"toc-item-num\">2.1.5&nbsp;&nbsp;</span>Progression in the current role</a></span></li></ul></li><li><span><a href=\"#Germany\" data-toc-modified-id=\"Germany-2.2\"><span class=\"toc-item-num\">2.2&nbsp;&nbsp;</span>Germany</a></span><ul class=\"toc-item\"><li><span><a href=\"#General-satisfaction\" data-toc-modified-id=\"General-satisfaction-2.2.1\"><span class=\"toc-item-num\">2.2.1&nbsp;&nbsp;</span>General satisfaction</a></span></li><li><span><a href=\"#Recognition\" data-toc-modified-id=\"Recognition-2.2.2\"><span class=\"toc-item-num\">2.2.2&nbsp;&nbsp;</span>Recognition</a></span></li><li><span><a href=\"#Turn-over-intention\" data-toc-modified-id=\"Turn-over-intention-2.2.3\"><span class=\"toc-item-num\">2.2.3&nbsp;&nbsp;</span>Turn-over intention</a></span></li><li><span><a href=\"#Perceived-employability\" data-toc-modified-id=\"Perceived-employability-2.2.4\"><span class=\"toc-item-num\">2.2.4&nbsp;&nbsp;</span>Perceived employability</a></span></li><li><span><a href=\"#Progression-in-the-current-role\" data-toc-modified-id=\"Progression-in-the-current-role-2.2.5\"><span class=\"toc-item-num\">2.2.5&nbsp;&nbsp;</span>Progression in the current role</a></span></li></ul></li><li><span><a href=\"#Netherlands\" data-toc-modified-id=\"Netherlands-2.3\"><span class=\"toc-item-num\">2.3&nbsp;&nbsp;</span>Netherlands</a></span><ul class=\"toc-item\"><li><span><a href=\"#General-satisfaction\" data-toc-modified-id=\"General-satisfaction-2.3.1\"><span class=\"toc-item-num\">2.3.1&nbsp;&nbsp;</span>General satisfaction</a></span></li></ul></li><li><span><a href=\"#New-Zealand\" data-toc-modified-id=\"New-Zealand-2.4\"><span class=\"toc-item-num\">2.4&nbsp;&nbsp;</span>New Zealand</a></span><ul class=\"toc-item\"><li><span><a href=\"#General-satisfaction\" data-toc-modified-id=\"General-satisfaction-2.4.1\"><span class=\"toc-item-num\">2.4.1&nbsp;&nbsp;</span>General satisfaction</a></span></li><li><span><a href=\"#Recognition\" data-toc-modified-id=\"Recognition-2.4.2\"><span class=\"toc-item-num\">2.4.2&nbsp;&nbsp;</span>Recognition</a></span></li><li><span><a href=\"#Turn-over-intention\" data-toc-modified-id=\"Turn-over-intention-2.4.3\"><span class=\"toc-item-num\">2.4.3&nbsp;&nbsp;</span>Turn-over intention</a></span></li><li><span><a href=\"#Perceived-employability\" data-toc-modified-id=\"Perceived-employability-2.4.4\"><span class=\"toc-item-num\">2.4.4&nbsp;&nbsp;</span>Perceived employability</a></span></li><li><span><a href=\"#Progression-in-the-current-role\" data-toc-modified-id=\"Progression-in-the-current-role-2.4.5\"><span class=\"toc-item-num\">2.4.5&nbsp;&nbsp;</span>Progression in the current role</a></span></li></ul></li><li><span><a href=\"#South-Africa\" data-toc-modified-id=\"South-Africa-2.5\"><span class=\"toc-item-num\">2.5&nbsp;&nbsp;</span>South Africa</a></span><ul class=\"toc-item\"><li><span><a href=\"#General-satisfaction\" data-toc-modified-id=\"General-satisfaction-2.5.1\"><span class=\"toc-item-num\">2.5.1&nbsp;&nbsp;</span>General satisfaction</a></span></li><li><span><a href=\"#Recognition\" data-toc-modified-id=\"Recognition-2.5.2\"><span class=\"toc-item-num\">2.5.2&nbsp;&nbsp;</span>Recognition</a></span></li><li><span><a href=\"#Turn-over-intention\" data-toc-modified-id=\"Turn-over-intention-2.5.3\"><span class=\"toc-item-num\">2.5.3&nbsp;&nbsp;</span>Turn-over intention</a></span></li><li><span><a href=\"#Perceived-employability\" data-toc-modified-id=\"Perceived-employability-2.5.4\"><span class=\"toc-item-num\">2.5.4&nbsp;&nbsp;</span>Perceived employability</a></span></li><li><span><a href=\"#Progression-in-the-current-role\" data-toc-modified-id=\"Progression-in-the-current-role-2.5.5\"><span class=\"toc-item-num\">2.5.5&nbsp;&nbsp;</span>Progression in the current role</a></span></li></ul></li><li><span><a href=\"#United-Kingdom\" data-toc-modified-id=\"United-Kingdom-2.6\"><span class=\"toc-item-num\">2.6&nbsp;&nbsp;</span>United Kingdom</a></span><ul class=\"toc-item\"><li><span><a href=\"#General-satisfaction\" data-toc-modified-id=\"General-satisfaction-2.6.1\"><span class=\"toc-item-num\">2.6.1&nbsp;&nbsp;</span>General satisfaction</a></span></li><li><span><a href=\"#Recognition\" data-toc-modified-id=\"Recognition-2.6.2\"><span class=\"toc-item-num\">2.6.2&nbsp;&nbsp;</span>Recognition</a></span></li><li><span><a href=\"#Turn-over-intention\" data-toc-modified-id=\"Turn-over-intention-2.6.3\"><span class=\"toc-item-num\">2.6.3&nbsp;&nbsp;</span>Turn-over intention</a></span></li><li><span><a href=\"#Perceived-employability\" data-toc-modified-id=\"Perceived-employability-2.6.4\"><span class=\"toc-item-num\">2.6.4&nbsp;&nbsp;</span>Perceived employability</a></span></li><li><span><a href=\"#Progression-in-the-current-role\" data-toc-modified-id=\"Progression-in-the-current-role-2.6.5\"><span class=\"toc-item-num\">2.6.5&nbsp;&nbsp;</span>Progression in the current role</a></span></li></ul></li><li><span><a href=\"#United-States\" data-toc-modified-id=\"United-States-2.7\"><span class=\"toc-item-num\">2.7&nbsp;&nbsp;</span>United States</a></span><ul class=\"toc-item\"><li><span><a href=\"#General-satisfaction\" data-toc-modified-id=\"General-satisfaction-2.7.1\"><span class=\"toc-item-num\">2.7.1&nbsp;&nbsp;</span>General satisfaction</a></span></li><li><span><a href=\"#Recognition\" data-toc-modified-id=\"Recognition-2.7.2\"><span class=\"toc-item-num\">2.7.2&nbsp;&nbsp;</span>Recognition</a></span></li><li><span><a href=\"#Turn-over-intention\" data-toc-modified-id=\"Turn-over-intention-2.7.3\"><span class=\"toc-item-num\">2.7.3&nbsp;&nbsp;</span>Turn-over intention</a></span></li><li><span><a href=\"#Perceived-employability\" data-toc-modified-id=\"Perceived-employability-2.7.4\"><span class=\"toc-item-num\">2.7.4&nbsp;&nbsp;</span>Perceived employability</a></span></li><li><span><a href=\"#Progression-in-the-current-role\" data-toc-modified-id=\"Progression-in-the-current-role-2.7.5\"><span class=\"toc-item-num\">2.7.5&nbsp;&nbsp;</span>Progression in the current role</a></span></li></ul></li><li><span><a href=\"#Rest-of-the-world\" data-toc-modified-id=\"Rest-of-the-world-2.8\"><span class=\"toc-item-num\">2.8&nbsp;&nbsp;</span>Rest of the world</a></span><ul class=\"toc-item\"><li><span><a href=\"#General-satisfaction\" data-toc-modified-id=\"General-satisfaction-2.8.1\"><span class=\"toc-item-num\">2.8.1&nbsp;&nbsp;</span>General satisfaction</a></span></li><li><span><a href=\"#Recognition\" data-toc-modified-id=\"Recognition-2.8.2\"><span class=\"toc-item-num\">2.8.2&nbsp;&nbsp;</span>Recognition</a></span></li><li><span><a href=\"#Turn-over-intention\" data-toc-modified-id=\"Turn-over-intention-2.8.3\"><span class=\"toc-item-num\">2.8.3&nbsp;&nbsp;</span>Turn-over intention</a></span></li><li><span><a href=\"#Perceived-employability\" data-toc-modified-id=\"Perceived-employability-2.8.4\"><span class=\"toc-item-num\">2.8.4&nbsp;&nbsp;</span>Perceived employability</a></span></li><li><span><a href=\"#Progression-in-the-current-role\" data-toc-modified-id=\"Progression-in-the-current-role-2.8.5\"><span class=\"toc-item-num\">2.8.5&nbsp;&nbsp;</span>Progression in the current role</a></span></li></ul></li></ul></li></ul></div>"
   ]
  },
  {
   "cell_type": "markdown",
   "metadata": {},
   "source": [
    "# Introduction"
   ]
  },
  {
   "cell_type": "markdown",
   "metadata": {},
   "source": [
    "## Setting up"
   ]
  },
  {
   "cell_type": "code",
   "execution_count": null,
   "metadata": {},
   "outputs": [],
   "source": [
    "%%capture  \n",
    "# Import notebook containing the imports the functions and the dataset\n",
    "%run \"./0. Imports and functions.ipynb\"\n",
    "\n",
    "# Import notebook containing sampled dataset\n",
    "%run \"./1. Overview and sampling.ipynb\""
   ]
  },
  {
   "cell_type": "markdown",
   "metadata": {},
   "source": [
    "# Job Satisfaction"
   ]
  },
  {
   "cell_type": "code",
   "execution_count": null,
   "metadata": {},
   "outputs": [],
   "source": [
    "satis_gen = ['satisGen1. In general, how satisfied are you with your current position', 'satisGen2. In general, how satisfied are you with your career']\n",
    "\n",
    "recog = ['recog1. Do you feel that your contribution to research is recognised by your supervisor/line manager',\n",
    "         'recog2. Do you feel that your contribution to research is recognised by the researchers you work with',\n",
    "         'recog3. Do you feel that your contribution to research is recognised by your institution?']\n",
    "\n",
    "turn_over1 = ['turnOver3. How often do you consider leaving your job?']\n",
    "turn_over2 = ['turnOver6. I would accept another job at the same compensation level if I was offered it']\n",
    "\n",
    "perc_emp =['percEmp1. It would not be very difficult for me to get an equivalent job in a different institution',\n",
    "           'percEmp3. My experience is in demand on the labour market']\n",
    "\n",
    "prog_rse = ['progRSE1. It is likely that I will gain a promotion within my current group',\n",
    "            'progRSE2. The process I have to complete to gain a promotion is clear and understandable',\n",
    "            'progRSE3. There are many opportunities within my chosen career plan',\n",
    "            'progRSE5. It is likely that my next position will be an Research Software Engineer / Research Software Developer role']\n",
    "\n",
    "\n",
    "#agree_scale = ['Strongly Agree', 'Agree', 'Neither agree or disagree',\n",
    " #              'Strongly disagree', 'Disagree']\n",
    "agree_scale = ['Strongly disagree', 'Disagree', 'Neither agree or disagree', 'Agree','Strongly Agree']\n",
    "\n",
    "number_scale = [str(i) for i in range(11)[1:]]"
   ]
  },
  {
   "cell_type": "markdown",
   "metadata": {},
   "source": [
    "## Australia"
   ]
  },
  {
   "cell_type": "code",
   "execution_count": null,
   "metadata": {},
   "outputs": [],
   "source": [
    "country = 'Australia'"
   ]
  },
  {
   "cell_type": "markdown",
   "metadata": {},
   "source": [
    "### General satisfaction"
   ]
  },
  {
   "cell_type": "code",
   "execution_count": null,
   "metadata": {},
   "outputs": [],
   "source": [
    "category = 'General satisfaction'\n",
    "plotting_likert(df, country, category, satis_gen, order_scale=number_scale)"
   ]
  },
  {
   "cell_type": "markdown",
   "metadata": {},
   "source": [
    "### Recognition"
   ]
  },
  {
   "cell_type": "code",
   "execution_count": null,
   "metadata": {},
   "outputs": [],
   "source": [
    "recog_cat = 'Recognition'\n",
    "plotting_likert(df, country, category, recog, order_scale=agree_scale)"
   ]
  },
  {
   "cell_type": "markdown",
   "metadata": {},
   "source": [
    "### Turn-over intention"
   ]
  },
  {
   "cell_type": "code",
   "execution_count": null,
   "metadata": {},
   "outputs": [],
   "source": [
    "category = 'Intention of changing position'\n",
    "plotting_likert(df, country, category, turn_over1, order_scale=number_scale)"
   ]
  },
  {
   "cell_type": "code",
   "execution_count": null,
   "metadata": {},
   "outputs": [],
   "source": [
    "category = 'Intention of changing position'\n",
    "plotting_likert(df, country, category, turn_over2, order_scale=agree_scale)"
   ]
  },
  {
   "cell_type": "markdown",
   "metadata": {},
   "source": [
    "### Perceived employability"
   ]
  },
  {
   "cell_type": "code",
   "execution_count": null,
   "metadata": {},
   "outputs": [],
   "source": [
    "category = 'Perceived employability'\n",
    "plotting_likert(df, country, category, perc_emp, order_scale=agree_scale)"
   ]
  },
  {
   "cell_type": "markdown",
   "metadata": {},
   "source": [
    "### Progression in the current role"
   ]
  },
  {
   "cell_type": "code",
   "execution_count": null,
   "metadata": {},
   "outputs": [],
   "source": [
    "category = 'Progression in the current position'\n",
    "plotting_likert(df, country, category, prog_rse, order_scale=agree_scale)"
   ]
  },
  {
   "cell_type": "markdown",
   "metadata": {},
   "source": [
    "## Germany"
   ]
  },
  {
   "cell_type": "code",
   "execution_count": null,
   "metadata": {},
   "outputs": [],
   "source": [
    "country = 'Germany'"
   ]
  },
  {
   "cell_type": "markdown",
   "metadata": {},
   "source": [
    "### General satisfaction"
   ]
  },
  {
   "cell_type": "code",
   "execution_count": null,
   "metadata": {},
   "outputs": [],
   "source": [
    "category = 'General satisfaction'\n",
    "plotting_likert(df, country, category, satis_gen, order_scale=number_scale)"
   ]
  },
  {
   "cell_type": "markdown",
   "metadata": {},
   "source": [
    "### Recognition"
   ]
  },
  {
   "cell_type": "code",
   "execution_count": null,
   "metadata": {},
   "outputs": [],
   "source": [
    "recog_cat = 'Recognition'\n",
    "plotting_likert(df, country, category, recog, order_scale=agree_scale)"
   ]
  },
  {
   "cell_type": "markdown",
   "metadata": {},
   "source": [
    "### Turn-over intention"
   ]
  },
  {
   "cell_type": "code",
   "execution_count": null,
   "metadata": {},
   "outputs": [],
   "source": [
    "category = 'Intention of changing position'\n",
    "plotting_likert(df, country, category, turn_over1, order_scale=number_scale)"
   ]
  },
  {
   "cell_type": "code",
   "execution_count": null,
   "metadata": {},
   "outputs": [],
   "source": [
    "category = 'Intention of changing position'\n",
    "plotting_likert(df, country, category, turn_over2, order_scale=agree_scale)"
   ]
  },
  {
   "cell_type": "markdown",
   "metadata": {},
   "source": [
    "### Perceived employability"
   ]
  },
  {
   "cell_type": "code",
   "execution_count": null,
   "metadata": {},
   "outputs": [],
   "source": [
    "category = 'Perceived employability'\n",
    "plotting_likert(df, country, category, perc_emp, order_scale=agree_scale)"
   ]
  },
  {
   "cell_type": "markdown",
   "metadata": {},
   "source": [
    "### Progression in the current role"
   ]
  },
  {
   "cell_type": "code",
   "execution_count": null,
   "metadata": {},
   "outputs": [],
   "source": [
    "category = 'Progression in the current position'\n",
    "plotting_likert(df, country, category, prog_rse, order_scale=agree_scale)"
   ]
  },
  {
   "cell_type": "markdown",
   "metadata": {},
   "source": [
    "## Netherlands"
   ]
  },
  {
   "cell_type": "code",
   "execution_count": null,
   "metadata": {},
   "outputs": [],
   "source": [
    "country = 'Netherlands'"
   ]
  },
  {
   "cell_type": "markdown",
   "metadata": {},
   "source": [
    "### General satisfaction"
   ]
  },
  {
   "cell_type": "code",
   "execution_count": null,
   "metadata": {},
   "outputs": [],
   "source": [
    "category = 'General satisfaction'\n",
    "plotting_likert(df, country, category, satis_gen, order_scale=number_scale)"
   ]
  },
  {
   "cell_type": "markdown",
   "metadata": {},
   "source": [
    "## New Zealand"
   ]
  },
  {
   "cell_type": "code",
   "execution_count": null,
   "metadata": {},
   "outputs": [],
   "source": [
    "country = 'New Zealand'"
   ]
  },
  {
   "cell_type": "markdown",
   "metadata": {},
   "source": [
    "### General satisfaction"
   ]
  },
  {
   "cell_type": "code",
   "execution_count": null,
   "metadata": {},
   "outputs": [],
   "source": [
    "category = 'General satisfaction'\n",
    "plotting_likert(df, country, category, satis_gen, order_scale=number_scale)"
   ]
  },
  {
   "cell_type": "markdown",
   "metadata": {},
   "source": [
    "### Recognition"
   ]
  },
  {
   "cell_type": "code",
   "execution_count": null,
   "metadata": {},
   "outputs": [],
   "source": [
    "recog_cat = 'Recognition'\n",
    "plotting_likert(df, country, category, recog, order_scale=agree_scale)"
   ]
  },
  {
   "cell_type": "markdown",
   "metadata": {},
   "source": [
    "### Turn-over intention"
   ]
  },
  {
   "cell_type": "code",
   "execution_count": null,
   "metadata": {},
   "outputs": [],
   "source": [
    "category = 'Intention of changing position'\n",
    "plotting_likert(df, country, category, turn_over1, order_scale=number_scale)"
   ]
  },
  {
   "cell_type": "code",
   "execution_count": null,
   "metadata": {},
   "outputs": [],
   "source": [
    "category = 'Intention of changing position'\n",
    "plotting_likert(df, country, category, turn_over2, order_scale=agree_scale)"
   ]
  },
  {
   "cell_type": "markdown",
   "metadata": {},
   "source": [
    "### Perceived employability"
   ]
  },
  {
   "cell_type": "code",
   "execution_count": null,
   "metadata": {},
   "outputs": [],
   "source": [
    "category = 'Perceived employability'\n",
    "plotting_likert(df, country, category, perc_emp, order_scale=agree_scale)"
   ]
  },
  {
   "cell_type": "markdown",
   "metadata": {},
   "source": [
    "### Progression in the current role"
   ]
  },
  {
   "cell_type": "code",
   "execution_count": null,
   "metadata": {},
   "outputs": [],
   "source": [
    "category = 'Progression in the current position'\n",
    "plotting_likert(df, country, category, prog_rse, order_scale=agree_scale)"
   ]
  },
  {
   "cell_type": "markdown",
   "metadata": {},
   "source": [
    "## South Africa"
   ]
  },
  {
   "cell_type": "code",
   "execution_count": null,
   "metadata": {},
   "outputs": [],
   "source": [
    "country = 'South Africa'"
   ]
  },
  {
   "cell_type": "markdown",
   "metadata": {},
   "source": [
    "### General satisfaction"
   ]
  },
  {
   "cell_type": "code",
   "execution_count": null,
   "metadata": {},
   "outputs": [],
   "source": [
    "category = 'General satisfaction'\n",
    "plotting_likert(df, country, category, satis_gen, order_scale=number_scale)"
   ]
  },
  {
   "cell_type": "markdown",
   "metadata": {},
   "source": [
    "### Recognition"
   ]
  },
  {
   "cell_type": "code",
   "execution_count": null,
   "metadata": {},
   "outputs": [],
   "source": [
    "recog_cat = 'Recognition'\n",
    "plotting_likert(df, country, category, recog, order_scale=agree_scale)"
   ]
  },
  {
   "cell_type": "markdown",
   "metadata": {},
   "source": [
    "### Turn-over intention"
   ]
  },
  {
   "cell_type": "code",
   "execution_count": null,
   "metadata": {},
   "outputs": [],
   "source": [
    "category = 'Intention of changing position'\n",
    "plotting_likert(df, country, category, turn_over1, order_scale=number_scale)"
   ]
  },
  {
   "cell_type": "code",
   "execution_count": null,
   "metadata": {},
   "outputs": [],
   "source": [
    "category = 'Intention of changing position'\n",
    "plotting_likert(df, country, category, turn_over2, order_scale=agree_scale)"
   ]
  },
  {
   "cell_type": "markdown",
   "metadata": {},
   "source": [
    "### Perceived employability"
   ]
  },
  {
   "cell_type": "code",
   "execution_count": null,
   "metadata": {},
   "outputs": [],
   "source": [
    "category = 'Perceived employability'\n",
    "plotting_likert(df, country, category, perc_emp, order_scale=agree_scale)"
   ]
  },
  {
   "cell_type": "markdown",
   "metadata": {},
   "source": [
    "### Progression in the current role"
   ]
  },
  {
   "cell_type": "code",
   "execution_count": null,
   "metadata": {},
   "outputs": [],
   "source": [
    "category = 'Progression in the current position'\n",
    "plotting_likert(df, country, category, prog_rse, order_scale=agree_scale)"
   ]
  },
  {
   "cell_type": "markdown",
   "metadata": {},
   "source": [
    "## United Kingdom"
   ]
  },
  {
   "cell_type": "code",
   "execution_count": null,
   "metadata": {},
   "outputs": [],
   "source": [
    "country = 'United Kingdom'"
   ]
  },
  {
   "cell_type": "markdown",
   "metadata": {},
   "source": [
    "### General satisfaction"
   ]
  },
  {
   "cell_type": "code",
   "execution_count": null,
   "metadata": {},
   "outputs": [],
   "source": [
    "category = 'General satisfaction'\n",
    "plotting_likert(df, country, category, satis_gen, order_scale=number_scale)"
   ]
  },
  {
   "cell_type": "markdown",
   "metadata": {},
   "source": [
    "### Recognition"
   ]
  },
  {
   "cell_type": "code",
   "execution_count": null,
   "metadata": {},
   "outputs": [],
   "source": [
    "recog_cat = 'Recognition'\n",
    "plotting_likert(df, country, category, recog, order_scale=agree_scale)"
   ]
  },
  {
   "cell_type": "markdown",
   "metadata": {},
   "source": [
    "### Turn-over intention"
   ]
  },
  {
   "cell_type": "code",
   "execution_count": null,
   "metadata": {},
   "outputs": [],
   "source": [
    "category = 'Intention of changing position'\n",
    "plotting_likert(df, country, category, turn_over1, order_scale=number_scale)"
   ]
  },
  {
   "cell_type": "code",
   "execution_count": null,
   "metadata": {},
   "outputs": [],
   "source": [
    "category = 'Intention of changing position'\n",
    "plotting_likert(df, country, category, turn_over2, order_scale=agree_scale)"
   ]
  },
  {
   "cell_type": "markdown",
   "metadata": {},
   "source": [
    "### Perceived employability"
   ]
  },
  {
   "cell_type": "code",
   "execution_count": null,
   "metadata": {},
   "outputs": [],
   "source": [
    "category = 'Perceived employability'\n",
    "plotting_likert(df, country, category, perc_emp, order_scale=agree_scale)"
   ]
  },
  {
   "cell_type": "markdown",
   "metadata": {},
   "source": [
    "### Progression in the current role"
   ]
  },
  {
   "cell_type": "code",
   "execution_count": null,
   "metadata": {},
   "outputs": [],
   "source": [
    "category = 'Progression in the current position'\n",
    "plotting_likert(df, country, category, prog_rse, order_scale=agree_scale)"
   ]
  },
  {
   "cell_type": "markdown",
   "metadata": {},
   "source": [
    "## United States"
   ]
  },
  {
   "cell_type": "code",
   "execution_count": null,
   "metadata": {},
   "outputs": [],
   "source": [
    "country = 'United States'"
   ]
  },
  {
   "cell_type": "markdown",
   "metadata": {},
   "source": [
    "### General satisfaction"
   ]
  },
  {
   "cell_type": "code",
   "execution_count": null,
   "metadata": {},
   "outputs": [],
   "source": [
    "category = 'General satisfaction'\n",
    "plotting_likert(df, country, category, satis_gen, order_scale=number_scale)"
   ]
  },
  {
   "cell_type": "markdown",
   "metadata": {},
   "source": [
    "### Recognition"
   ]
  },
  {
   "cell_type": "code",
   "execution_count": null,
   "metadata": {},
   "outputs": [],
   "source": [
    "recog_cat = 'Recognition'\n",
    "plotting_likert(df, country, category, recog, order_scale=agree_scale)"
   ]
  },
  {
   "cell_type": "markdown",
   "metadata": {},
   "source": [
    "### Turn-over intention"
   ]
  },
  {
   "cell_type": "code",
   "execution_count": null,
   "metadata": {},
   "outputs": [],
   "source": [
    "category = 'Intention of changing position'\n",
    "plotting_likert(df, country, category, turn_over1, order_scale=number_scale)"
   ]
  },
  {
   "cell_type": "code",
   "execution_count": null,
   "metadata": {},
   "outputs": [],
   "source": [
    "category = 'Intention of changing position'\n",
    "plotting_likert(df, country, category, turn_over2, order_scale=agree_scale)"
   ]
  },
  {
   "cell_type": "markdown",
   "metadata": {},
   "source": [
    "### Perceived employability"
   ]
  },
  {
   "cell_type": "code",
   "execution_count": null,
   "metadata": {},
   "outputs": [],
   "source": [
    "category = 'Perceived employability'\n",
    "plotting_likert(df, country, category, perc_emp, order_scale=agree_scale)"
   ]
  },
  {
   "cell_type": "markdown",
   "metadata": {},
   "source": [
    "### Progression in the current role"
   ]
  },
  {
   "cell_type": "code",
   "execution_count": null,
   "metadata": {},
   "outputs": [],
   "source": [
    "category = 'Progression in the current position'\n",
    "plotting_likert(df, country, category, prog_rse, order_scale=agree_scale)"
   ]
  },
  {
   "cell_type": "markdown",
   "metadata": {},
   "source": [
    "## Rest of the world"
   ]
  },
  {
   "cell_type": "code",
   "execution_count": null,
   "metadata": {},
   "outputs": [],
   "source": [
    "country = 'World'"
   ]
  },
  {
   "cell_type": "markdown",
   "metadata": {},
   "source": [
    "### General satisfaction"
   ]
  },
  {
   "cell_type": "code",
   "execution_count": null,
   "metadata": {},
   "outputs": [],
   "source": [
    "category = 'General satisfaction'\n",
    "plotting_likert(df, country, category, satis_gen, order_scale=number_scale)"
   ]
  },
  {
   "cell_type": "markdown",
   "metadata": {},
   "source": [
    "### Recognition"
   ]
  },
  {
   "cell_type": "code",
   "execution_count": null,
   "metadata": {},
   "outputs": [],
   "source": [
    "recog_cat = 'Recognition'\n",
    "plotting_likert(df, country, category, recog, order_scale=agree_scale)"
   ]
  },
  {
   "cell_type": "markdown",
   "metadata": {},
   "source": [
    "### Turn-over intention"
   ]
  },
  {
   "cell_type": "code",
   "execution_count": null,
   "metadata": {},
   "outputs": [],
   "source": [
    "category = 'Intention of changing position'\n",
    "plotting_likert(df, country, category, turn_over1, order_scale=number_scale)"
   ]
  },
  {
   "cell_type": "code",
   "execution_count": null,
   "metadata": {},
   "outputs": [],
   "source": [
    "category = 'Intention of changing position'\n",
    "plotting_likert(df, country, category, turn_over2, order_scale=agree_scale)"
   ]
  },
  {
   "cell_type": "markdown",
   "metadata": {},
   "source": [
    "### Perceived employability"
   ]
  },
  {
   "cell_type": "code",
   "execution_count": null,
   "metadata": {},
   "outputs": [],
   "source": [
    "category = 'Perceived employability'\n",
    "plotting_likert(df, country, category, perc_emp, order_scale=agree_scale)"
   ]
  },
  {
   "cell_type": "markdown",
   "metadata": {},
   "source": [
    "### Progression in the current role"
   ]
  },
  {
   "cell_type": "code",
   "execution_count": null,
   "metadata": {
    "scrolled": true
   },
   "outputs": [],
   "source": [
    "category = 'Progression in the current position'\n",
    "plotting_likert(df, country, category, prog_rse, order_scale=agree_scale)"
   ]
  }
 ],
 "metadata": {
  "kernelspec": {
   "display_name": "Python 3",
   "language": "python",
   "name": "python3"
  },
  "language_info": {
   "codemirror_mode": {
    "name": "ipython",
    "version": 3
   },
   "file_extension": ".py",
   "mimetype": "text/x-python",
   "name": "python",
   "nbconvert_exporter": "python",
   "pygments_lexer": "ipython3",
   "version": "3.6.7"
  },
  "toc": {
   "base_numbering": 1,
   "nav_menu": {
    "height": "512px",
    "width": "252px"
   },
   "number_sections": true,
   "sideBar": true,
   "skip_h1_title": false,
   "title_cell": "Table of Contents",
   "title_sidebar": "Contents",
   "toc_cell": true,
   "toc_position": {},
   "toc_section_display": "block",
   "toc_window_display": true
  }
 },
 "nbformat": 4,
 "nbformat_minor": 2
}
