{
 "cells": [
  {
   "cell_type": "markdown",
   "metadata": {
    "toc": true
   },
   "source": [
    "<h1>Table of Contents<span class=\"tocSkip\"></span></h1>\n",
    "<div class=\"toc\"><ul class=\"toc-item\"><li><span><a href=\"#Introduction\" data-toc-modified-id=\"Introduction-1\"><span class=\"toc-item-num\">1&nbsp;&nbsp;</span>Introduction</a></span><ul class=\"toc-item\"><li><span><a href=\"#Setting-up\" data-toc-modified-id=\"Setting-up-1.1\"><span class=\"toc-item-num\">1.1&nbsp;&nbsp;</span>Setting up</a></span></li></ul></li><li><span><a href=\"#Questions-about-previous-employment\" data-toc-modified-id=\"Questions-about-previous-employment-2\"><span class=\"toc-item-num\">2&nbsp;&nbsp;</span>Questions about previous employment</a></span><ul class=\"toc-item\"><li><span><a href=\"#Australia\" data-toc-modified-id=\"Australia-2.1\"><span class=\"toc-item-num\">2.1&nbsp;&nbsp;</span>Australia</a></span><ul class=\"toc-item\"><li><span><a href=\"#Where-the-previous-job-was-based\" data-toc-modified-id=\"Where-the-previous-job-was-based-2.1.1\"><span class=\"toc-item-num\">2.1.1&nbsp;&nbsp;</span>Where the previous job was based</a></span></li><li><span><a href=\"#What-were-the-reasons-to-choose-the-current-job\" data-toc-modified-id=\"What-were-the-reasons-to-choose-the-current-job-2.1.2\"><span class=\"toc-item-num\">2.1.2&nbsp;&nbsp;</span>What were the reasons to choose the current job</a></span></li></ul></li><li><span><a href=\"#Germany\" data-toc-modified-id=\"Germany-2.2\"><span class=\"toc-item-num\">2.2&nbsp;&nbsp;</span>Germany</a></span><ul class=\"toc-item\"><li><span><a href=\"#Where-the-previous-job-was-based\" data-toc-modified-id=\"Where-the-previous-job-was-based-2.2.1\"><span class=\"toc-item-num\">2.2.1&nbsp;&nbsp;</span>Where the previous job was based</a></span></li><li><span><a href=\"#What-were-the-reasons-to-choose-the-current-job\" data-toc-modified-id=\"What-were-the-reasons-to-choose-the-current-job-2.2.2\"><span class=\"toc-item-num\">2.2.2&nbsp;&nbsp;</span>What were the reasons to choose the current job</a></span></li></ul></li><li><span><a href=\"#New-Zealand\" data-toc-modified-id=\"New-Zealand-2.3\"><span class=\"toc-item-num\">2.3&nbsp;&nbsp;</span>New Zealand</a></span><ul class=\"toc-item\"><li><span><a href=\"#Where-the-previous-job-was-based\" data-toc-modified-id=\"Where-the-previous-job-was-based-2.3.1\"><span class=\"toc-item-num\">2.3.1&nbsp;&nbsp;</span>Where the previous job was based</a></span></li><li><span><a href=\"#What-were-the-reasons-to-choose-the-current-job\" data-toc-modified-id=\"What-were-the-reasons-to-choose-the-current-job-2.3.2\"><span class=\"toc-item-num\">2.3.2&nbsp;&nbsp;</span>What were the reasons to choose the current job</a></span></li></ul></li><li><span><a href=\"#South-Africa\" data-toc-modified-id=\"South-Africa-2.4\"><span class=\"toc-item-num\">2.4&nbsp;&nbsp;</span>South Africa</a></span><ul class=\"toc-item\"><li><span><a href=\"#Where-the-previous-job-was-based\" data-toc-modified-id=\"Where-the-previous-job-was-based-2.4.1\"><span class=\"toc-item-num\">2.4.1&nbsp;&nbsp;</span>Where the previous job was based</a></span></li><li><span><a href=\"#What-were-the-reasons-to-choose-the-current-job\" data-toc-modified-id=\"What-were-the-reasons-to-choose-the-current-job-2.4.2\"><span class=\"toc-item-num\">2.4.2&nbsp;&nbsp;</span>What were the reasons to choose the current job</a></span></li></ul></li><li><span><a href=\"#United-Kingdom\" data-toc-modified-id=\"United-Kingdom-2.5\"><span class=\"toc-item-num\">2.5&nbsp;&nbsp;</span>United Kingdom</a></span><ul class=\"toc-item\"><li><span><a href=\"#Where-the-previous-job-was-based\" data-toc-modified-id=\"Where-the-previous-job-was-based-2.5.1\"><span class=\"toc-item-num\">2.5.1&nbsp;&nbsp;</span>Where the previous job was based</a></span></li><li><span><a href=\"#What-were-the-reasons-to-choose-the-current-job\" data-toc-modified-id=\"What-were-the-reasons-to-choose-the-current-job-2.5.2\"><span class=\"toc-item-num\">2.5.2&nbsp;&nbsp;</span>What were the reasons to choose the current job</a></span></li></ul></li><li><span><a href=\"#United-States\" data-toc-modified-id=\"United-States-2.6\"><span class=\"toc-item-num\">2.6&nbsp;&nbsp;</span>United States</a></span><ul class=\"toc-item\"><li><span><a href=\"#Where-the-previous-job-was-based\" data-toc-modified-id=\"Where-the-previous-job-was-based-2.6.1\"><span class=\"toc-item-num\">2.6.1&nbsp;&nbsp;</span>Where the previous job was based</a></span></li><li><span><a href=\"#What-were-the-reasons-to-choose-the-current-job\" data-toc-modified-id=\"What-were-the-reasons-to-choose-the-current-job-2.6.2\"><span class=\"toc-item-num\">2.6.2&nbsp;&nbsp;</span>What were the reasons to choose the current job</a></span></li></ul></li><li><span><a href=\"#Rest-of-the-world\" data-toc-modified-id=\"Rest-of-the-world-2.7\"><span class=\"toc-item-num\">2.7&nbsp;&nbsp;</span>Rest of the world</a></span><ul class=\"toc-item\"><li><span><a href=\"#Where-the-previous-job-was-based\" data-toc-modified-id=\"Where-the-previous-job-was-based-2.7.1\"><span class=\"toc-item-num\">2.7.1&nbsp;&nbsp;</span>Where the previous job was based</a></span></li><li><span><a href=\"#What-were-the-reasons-to-choose-the-current-job\" data-toc-modified-id=\"What-were-the-reasons-to-choose-the-current-job-2.7.2\"><span class=\"toc-item-num\">2.7.2&nbsp;&nbsp;</span>What were the reasons to choose the current job</a></span></li></ul></li></ul></li></ul></div>"
   ]
  },
  {
   "cell_type": "markdown",
   "metadata": {},
   "source": [
    "# Introduction"
   ]
  },
  {
   "cell_type": "markdown",
   "metadata": {},
   "source": [
    "## Setting up"
   ]
  },
  {
   "cell_type": "code",
   "execution_count": null,
   "metadata": {},
   "outputs": [],
   "source": [
    "%%capture  \n",
    "# Import notebook containing the imports the functions and the dataset\n",
    "%run \"./0. Imports and functions.ipynb\"\n",
    "\n",
    "# Import notebook containing sampled dataset\n",
    "%run \"./1. Overview and sampling.ipynb\""
   ]
  },
  {
   "cell_type": "markdown",
   "metadata": {},
   "source": [
    "# Questions about previous employment"
   ]
  },
  {
   "cell_type": "markdown",
   "metadata": {},
   "source": [
    "Several questions were about the participants previous job. The idea is to collect insights of their career path and understand what are their motivations to be an RSE.\n",
    "\n",
    "We also asked the participants to rank the reasons why they chose their actual position among 8 different ones:\n",
    "* Desire to work in a research environment\n",
    "* Freedom to choose own working practices\n",
    "* Desire to advance research\n",
    "* I want to learn new skills\n",
    "* Opportunity to develop software\n",
    "* Flexible working hours\n",
    "* Ability to work across disciplines\n",
    "* Opportunity for career advancement\n",
    "* The salary"
   ]
  },
  {
   "cell_type": "code",
   "execution_count": null,
   "metadata": {},
   "outputs": [],
   "source": [
    "prev_work = ['prevEmp1. Where was your previous job based?']\n",
    "reason_choice = [x for x in df.columns if x[:8] == 'prevEmp2']"
   ]
  },
  {
   "cell_type": "markdown",
   "metadata": {},
   "source": [
    "## Australia"
   ]
  },
  {
   "cell_type": "markdown",
   "metadata": {},
   "source": [
    "### Where the previous job was based"
   ]
  },
  {
   "cell_type": "code",
   "execution_count": null,
   "metadata": {},
   "outputs": [],
   "source": [
    "country = 'Australia'\n",
    "category = 'Where the previous job was based'\n",
    "results = count_diff(df, prev_work, country, category)\n",
    "results"
   ]
  },
  {
   "cell_type": "code",
   "execution_count": null,
   "metadata": {},
   "outputs": [],
   "source": [
    "plot_cat_comparison(results, country=country, category=category)"
   ]
  },
  {
   "cell_type": "markdown",
   "metadata": {},
   "source": [
    "### What were the reasons to choose the current job"
   ]
  },
  {
   "cell_type": "code",
   "execution_count": null,
   "metadata": {},
   "outputs": [],
   "source": [
    "category = 'Reasons to choose current job'\n",
    "results = count_ranking(df, reason_choice, country, category)\n",
    "results"
   ]
  },
  {
   "cell_type": "code",
   "execution_count": null,
   "metadata": {},
   "outputs": [],
   "source": [
    "plot_ranking(results, category, country)"
   ]
  },
  {
   "cell_type": "markdown",
   "metadata": {},
   "source": [
    "## Germany"
   ]
  },
  {
   "cell_type": "markdown",
   "metadata": {},
   "source": [
    "### Where the previous job was based"
   ]
  },
  {
   "cell_type": "code",
   "execution_count": null,
   "metadata": {},
   "outputs": [],
   "source": [
    "country = 'Germany'\n",
    "category = 'Where the previous job was based'\n",
    "results = count_diff(df, prev_work, country, category)\n",
    "results"
   ]
  },
  {
   "cell_type": "code",
   "execution_count": null,
   "metadata": {},
   "outputs": [],
   "source": [
    "plot_cat_comparison(results, country=country, category=category)"
   ]
  },
  {
   "cell_type": "markdown",
   "metadata": {},
   "source": [
    "### What were the reasons to choose the current job"
   ]
  },
  {
   "cell_type": "code",
   "execution_count": null,
   "metadata": {},
   "outputs": [],
   "source": [
    "category = 'Reasons to choose current job'\n",
    "results = count_ranking(df, reason_choice, country, category)\n",
    "results"
   ]
  },
  {
   "cell_type": "code",
   "execution_count": null,
   "metadata": {},
   "outputs": [],
   "source": [
    "plot_ranking(results, category, country)"
   ]
  },
  {
   "cell_type": "markdown",
   "metadata": {},
   "source": [
    "## New Zealand"
   ]
  },
  {
   "cell_type": "markdown",
   "metadata": {},
   "source": [
    "### Where the previous job was based"
   ]
  },
  {
   "cell_type": "code",
   "execution_count": null,
   "metadata": {},
   "outputs": [],
   "source": [
    "country = 'New Zealand'\n",
    "category = 'Where the previous job was based'\n",
    "results = count_diff(df, prev_work, country, category)\n",
    "results"
   ]
  },
  {
   "cell_type": "code",
   "execution_count": null,
   "metadata": {},
   "outputs": [],
   "source": [
    "plot_cat_comparison(results, country=country, category=category)"
   ]
  },
  {
   "cell_type": "markdown",
   "metadata": {},
   "source": [
    "### What were the reasons to choose the current job"
   ]
  },
  {
   "cell_type": "code",
   "execution_count": null,
   "metadata": {},
   "outputs": [],
   "source": [
    "category = 'Reasons to choose current job'\n",
    "results = count_ranking(df, reason_choice, country, category)\n",
    "results"
   ]
  },
  {
   "cell_type": "code",
   "execution_count": null,
   "metadata": {},
   "outputs": [],
   "source": [
    "plot_ranking(results, category, country)"
   ]
  },
  {
   "cell_type": "markdown",
   "metadata": {},
   "source": [
    "## South Africa"
   ]
  },
  {
   "cell_type": "markdown",
   "metadata": {},
   "source": [
    "### Where the previous job was based"
   ]
  },
  {
   "cell_type": "code",
   "execution_count": null,
   "metadata": {},
   "outputs": [],
   "source": [
    "country = 'South Africa'\n",
    "category = 'Where the previous job was based'\n",
    "results = count_diff(df, prev_work, country, category)\n",
    "results"
   ]
  },
  {
   "cell_type": "code",
   "execution_count": null,
   "metadata": {},
   "outputs": [],
   "source": [
    "plot_cat_comparison(results, country=country, category=category)"
   ]
  },
  {
   "cell_type": "markdown",
   "metadata": {},
   "source": [
    "### What were the reasons to choose the current job"
   ]
  },
  {
   "cell_type": "code",
   "execution_count": null,
   "metadata": {},
   "outputs": [],
   "source": [
    "category = 'Reasons to choose current job'\n",
    "results = count_ranking(df, reason_choice, country, category)\n",
    "results"
   ]
  },
  {
   "cell_type": "code",
   "execution_count": null,
   "metadata": {},
   "outputs": [],
   "source": [
    "plot_ranking(results, category, country)"
   ]
  },
  {
   "cell_type": "markdown",
   "metadata": {},
   "source": [
    "## United Kingdom"
   ]
  },
  {
   "cell_type": "markdown",
   "metadata": {},
   "source": [
    "### Where the previous job was based"
   ]
  },
  {
   "cell_type": "code",
   "execution_count": null,
   "metadata": {},
   "outputs": [],
   "source": [
    "country = 'United Kingdom'\n",
    "category = 'Where the previous job was based'\n",
    "results = count_diff(df, prev_work, country, category)\n",
    "results"
   ]
  },
  {
   "cell_type": "code",
   "execution_count": null,
   "metadata": {},
   "outputs": [],
   "source": [
    "plot_cat_comparison(results, country=country, category=category)"
   ]
  },
  {
   "cell_type": "markdown",
   "metadata": {},
   "source": [
    "### What were the reasons to choose the current job"
   ]
  },
  {
   "cell_type": "code",
   "execution_count": null,
   "metadata": {},
   "outputs": [],
   "source": [
    "category = 'Reasons to choose current job'\n",
    "results = count_ranking(df, reason_choice, country, category)\n",
    "results"
   ]
  },
  {
   "cell_type": "code",
   "execution_count": null,
   "metadata": {},
   "outputs": [],
   "source": [
    "plot_ranking(results, category, country)"
   ]
  },
  {
   "cell_type": "markdown",
   "metadata": {},
   "source": [
    "## United States"
   ]
  },
  {
   "cell_type": "markdown",
   "metadata": {},
   "source": [
    "### Where the previous job was based"
   ]
  },
  {
   "cell_type": "code",
   "execution_count": null,
   "metadata": {},
   "outputs": [],
   "source": [
    "country = 'United States'\n",
    "category = 'Where the previous job was based'\n",
    "results = count_diff(df, prev_work, country, category)\n",
    "results"
   ]
  },
  {
   "cell_type": "code",
   "execution_count": null,
   "metadata": {},
   "outputs": [],
   "source": [
    "plot_cat_comparison(results, country=country, category=category)"
   ]
  },
  {
   "cell_type": "markdown",
   "metadata": {},
   "source": [
    "### What were the reasons to choose the current job"
   ]
  },
  {
   "cell_type": "code",
   "execution_count": null,
   "metadata": {},
   "outputs": [],
   "source": [
    "category = 'Reasons to choose current job'\n",
    "results = count_ranking(df, reason_choice, country, category)\n",
    "results"
   ]
  },
  {
   "cell_type": "code",
   "execution_count": null,
   "metadata": {},
   "outputs": [],
   "source": [
    "plot_ranking(results, category, country)"
   ]
  },
  {
   "cell_type": "markdown",
   "metadata": {},
   "source": [
    "## Rest of the world"
   ]
  },
  {
   "cell_type": "markdown",
   "metadata": {},
   "source": [
    "### Where the previous job was based"
   ]
  },
  {
   "cell_type": "code",
   "execution_count": null,
   "metadata": {},
   "outputs": [],
   "source": [
    "country = 'World'\n",
    "category = 'Where the previous job was based'\n",
    "results = count_diff(df, prev_work, country, category)\n",
    "results"
   ]
  },
  {
   "cell_type": "code",
   "execution_count": null,
   "metadata": {},
   "outputs": [],
   "source": [
    "plot_cat_comparison(results, country=country, category=category)"
   ]
  },
  {
   "cell_type": "markdown",
   "metadata": {},
   "source": [
    "### What were the reasons to choose the current job"
   ]
  },
  {
   "cell_type": "code",
   "execution_count": null,
   "metadata": {},
   "outputs": [],
   "source": [
    "category = 'Reasons to choose current job'\n",
    "results = count_ranking(df, reason_choice, country, category)\n",
    "results"
   ]
  },
  {
   "cell_type": "code",
   "execution_count": null,
   "metadata": {
    "scrolled": true
   },
   "outputs": [],
   "source": [
    "plot_ranking(results, category, country)"
   ]
  }
 ],
 "metadata": {
  "kernelspec": {
   "display_name": "Python 3",
   "language": "python",
   "name": "python3"
  },
  "language_info": {
   "codemirror_mode": {
    "name": "ipython",
    "version": 3
   },
   "file_extension": ".py",
   "mimetype": "text/x-python",
   "name": "python",
   "nbconvert_exporter": "python",
   "pygments_lexer": "ipython3",
   "version": "3.6.7"
  },
  "toc": {
   "base_numbering": 1,
   "nav_menu": {
    "height": "470px",
    "width": "252px"
   },
   "number_sections": true,
   "sideBar": true,
   "skip_h1_title": false,
   "title_cell": "Table of Contents",
   "title_sidebar": "Contents",
   "toc_cell": true,
   "toc_position": {},
   "toc_section_display": "block",
   "toc_window_display": true
  }
 },
 "nbformat": 4,
 "nbformat_minor": 2
}
