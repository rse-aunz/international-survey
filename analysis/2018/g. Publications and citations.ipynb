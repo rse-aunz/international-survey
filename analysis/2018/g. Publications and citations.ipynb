{
 "cells": [
  {
   "cell_type": "markdown",
   "metadata": {
    "toc": true
   },
   "source": [
    "<h1>Table of Contents<span class=\"tocSkip\"></span></h1>\n",
    "<div class=\"toc\"><ul class=\"toc-item\"><li><span><a href=\"#Introduction\" data-toc-modified-id=\"Introduction-1\"><span class=\"toc-item-num\">1&nbsp;&nbsp;</span>Introduction</a></span><ul class=\"toc-item\"><li><span><a href=\"#Setting-up\" data-toc-modified-id=\"Setting-up-1.1\"><span class=\"toc-item-num\">1.1&nbsp;&nbsp;</span>Setting up</a></span></li></ul></li><li><span><a href=\"#Publications-and-citations\" data-toc-modified-id=\"Publications-and-citations-2\"><span class=\"toc-item-num\">2&nbsp;&nbsp;</span>Publications and citations</a></span><ul class=\"toc-item\"><li><span><a href=\"#Australia\" data-toc-modified-id=\"Australia-2.1\"><span class=\"toc-item-num\">2.1&nbsp;&nbsp;</span>Australia</a></span><ul class=\"toc-item\"><li><span><a href=\"#Acknowledgment-in-paper\" data-toc-modified-id=\"Acknowledgment-in-paper-2.1.1\"><span class=\"toc-item-num\">2.1.1&nbsp;&nbsp;</span>Acknowledgment in paper</a></span></li><li><span><a href=\"#Participation-to-conferences\" data-toc-modified-id=\"Participation-to-conferences-2.1.2\"><span class=\"toc-item-num\">2.1.2&nbsp;&nbsp;</span>Participation to conferences</a></span></li><li><span><a href=\"#Conference-name\" data-toc-modified-id=\"Conference-name-2.1.3\"><span class=\"toc-item-num\">2.1.3&nbsp;&nbsp;</span>Conference name</a></span></li></ul></li><li><span><a href=\"#Germany\" data-toc-modified-id=\"Germany-2.2\"><span class=\"toc-item-num\">2.2&nbsp;&nbsp;</span>Germany</a></span><ul class=\"toc-item\"><li><span><a href=\"#Acknowledgment-in-paper\" data-toc-modified-id=\"Acknowledgment-in-paper-2.2.1\"><span class=\"toc-item-num\">2.2.1&nbsp;&nbsp;</span>Acknowledgment in paper</a></span></li><li><span><a href=\"#Participation-to-conferences\" data-toc-modified-id=\"Participation-to-conferences-2.2.2\"><span class=\"toc-item-num\">2.2.2&nbsp;&nbsp;</span>Participation to conferences</a></span></li><li><span><a href=\"#Conference-name\" data-toc-modified-id=\"Conference-name-2.2.3\"><span class=\"toc-item-num\">2.2.3&nbsp;&nbsp;</span>Conference name</a></span></li></ul></li><li><span><a href=\"#Netherlands\" data-toc-modified-id=\"Netherlands-2.3\"><span class=\"toc-item-num\">2.3&nbsp;&nbsp;</span>Netherlands</a></span><ul class=\"toc-item\"><li><span><a href=\"#Acknowledgment-in-paper\" data-toc-modified-id=\"Acknowledgment-in-paper-2.3.1\"><span class=\"toc-item-num\">2.3.1&nbsp;&nbsp;</span>Acknowledgment in paper</a></span></li><li><span><a href=\"#Participation-to-conferences\" data-toc-modified-id=\"Participation-to-conferences-2.3.2\"><span class=\"toc-item-num\">2.3.2&nbsp;&nbsp;</span>Participation to conferences</a></span></li><li><span><a href=\"#Conference-name\" data-toc-modified-id=\"Conference-name-2.3.3\"><span class=\"toc-item-num\">2.3.3&nbsp;&nbsp;</span>Conference name</a></span></li></ul></li><li><span><a href=\"#New-Zealand\" data-toc-modified-id=\"New-Zealand-2.4\"><span class=\"toc-item-num\">2.4&nbsp;&nbsp;</span>New Zealand</a></span><ul class=\"toc-item\"><li><span><a href=\"#Acknowledgment-in-paper\" data-toc-modified-id=\"Acknowledgment-in-paper-2.4.1\"><span class=\"toc-item-num\">2.4.1&nbsp;&nbsp;</span>Acknowledgment in paper</a></span></li><li><span><a href=\"#Participation-to-conferences\" data-toc-modified-id=\"Participation-to-conferences-2.4.2\"><span class=\"toc-item-num\">2.4.2&nbsp;&nbsp;</span>Participation to conferences</a></span></li><li><span><a href=\"#Conference-name\" data-toc-modified-id=\"Conference-name-2.4.3\"><span class=\"toc-item-num\">2.4.3&nbsp;&nbsp;</span>Conference name</a></span></li></ul></li><li><span><a href=\"#South-Africa\" data-toc-modified-id=\"South-Africa-2.5\"><span class=\"toc-item-num\">2.5&nbsp;&nbsp;</span>South Africa</a></span><ul class=\"toc-item\"><li><span><a href=\"#Acknowledgment-in-paper\" data-toc-modified-id=\"Acknowledgment-in-paper-2.5.1\"><span class=\"toc-item-num\">2.5.1&nbsp;&nbsp;</span>Acknowledgment in paper</a></span></li><li><span><a href=\"#Participation-to-conferences\" data-toc-modified-id=\"Participation-to-conferences-2.5.2\"><span class=\"toc-item-num\">2.5.2&nbsp;&nbsp;</span>Participation to conferences</a></span></li><li><span><a href=\"#Conference-name\" data-toc-modified-id=\"Conference-name-2.5.3\"><span class=\"toc-item-num\">2.5.3&nbsp;&nbsp;</span>Conference name</a></span></li></ul></li><li><span><a href=\"#United-Kingdom\" data-toc-modified-id=\"United-Kingdom-2.6\"><span class=\"toc-item-num\">2.6&nbsp;&nbsp;</span>United Kingdom</a></span><ul class=\"toc-item\"><li><span><a href=\"#Acknowledgment-in-paper\" data-toc-modified-id=\"Acknowledgment-in-paper-2.6.1\"><span class=\"toc-item-num\">2.6.1&nbsp;&nbsp;</span>Acknowledgment in paper</a></span></li><li><span><a href=\"#Participation-to-conferences\" data-toc-modified-id=\"Participation-to-conferences-2.6.2\"><span class=\"toc-item-num\">2.6.2&nbsp;&nbsp;</span>Participation to conferences</a></span></li><li><span><a href=\"#Conference-name\" data-toc-modified-id=\"Conference-name-2.6.3\"><span class=\"toc-item-num\">2.6.3&nbsp;&nbsp;</span>Conference name</a></span></li></ul></li><li><span><a href=\"#United-States\" data-toc-modified-id=\"United-States-2.7\"><span class=\"toc-item-num\">2.7&nbsp;&nbsp;</span>United States</a></span><ul class=\"toc-item\"><li><span><a href=\"#Acknowledgment-in-paper\" data-toc-modified-id=\"Acknowledgment-in-paper-2.7.1\"><span class=\"toc-item-num\">2.7.1&nbsp;&nbsp;</span>Acknowledgment in paper</a></span></li><li><span><a href=\"#Participation-to-conferences\" data-toc-modified-id=\"Participation-to-conferences-2.7.2\"><span class=\"toc-item-num\">2.7.2&nbsp;&nbsp;</span>Participation to conferences</a></span></li><li><span><a href=\"#Conference-name\" data-toc-modified-id=\"Conference-name-2.7.3\"><span class=\"toc-item-num\">2.7.3&nbsp;&nbsp;</span>Conference name</a></span></li></ul></li><li><span><a href=\"#Rest-of-the-world\" data-toc-modified-id=\"Rest-of-the-world-2.8\"><span class=\"toc-item-num\">2.8&nbsp;&nbsp;</span>Rest of the world</a></span><ul class=\"toc-item\"><li><span><a href=\"#Acknowledgment-in-paper\" data-toc-modified-id=\"Acknowledgment-in-paper-2.8.1\"><span class=\"toc-item-num\">2.8.1&nbsp;&nbsp;</span>Acknowledgment in paper</a></span></li><li><span><a href=\"#Participation-to-conferences\" data-toc-modified-id=\"Participation-to-conferences-2.8.2\"><span class=\"toc-item-num\">2.8.2&nbsp;&nbsp;</span>Participation to conferences</a></span></li><li><span><a href=\"#Conference-name\" data-toc-modified-id=\"Conference-name-2.8.3\"><span class=\"toc-item-num\">2.8.3&nbsp;&nbsp;</span>Conference name</a></span></li></ul></li></ul></li></ul></div>"
   ]
  },
  {
   "cell_type": "markdown",
   "metadata": {},
   "source": [
    "# Introduction"
   ]
  },
  {
   "cell_type": "markdown",
   "metadata": {},
   "source": [
    "## Setting up"
   ]
  },
  {
   "cell_type": "code",
   "execution_count": null,
   "metadata": {},
   "outputs": [],
   "source": [
    "%%capture  \n",
    "# Import notebook containing the imports the functions and the dataset\n",
    "%run \"./0. Imports and functions.ipynb\"\n",
    "\n",
    "# Import notebook containing sampled dataset\n",
    "%run \"./1. Overview and sampling.ipynb\""
   ]
  },
  {
   "cell_type": "markdown",
   "metadata": {},
   "source": [
    "# Publications and citations"
   ]
  },
  {
   "cell_type": "code",
   "execution_count": null,
   "metadata": {},
   "outputs": [],
   "source": [
    "paper = ['paper2mod. In general, when your software contributes to a paper, are you acknowledged in that paper?']\n",
    "order_paper = ['Not mentioned at all', 'Acknowledged in the main text', 'Acknowledged in acknowledgements section', 'Named as co-author', 'Named as main author']\n",
    "\n",
    "conf1 = ['conf1can. Have you presented your software work at a conference or workshop?']\n",
    "\n",
    "conf2 = ['conf2can. At which conference(s)/workshop(s) have you presented your software work?']"
   ]
  },
  {
   "cell_type": "markdown",
   "metadata": {},
   "source": [
    "## Australia"
   ]
  },
  {
   "cell_type": "code",
   "execution_count": null,
   "metadata": {},
   "outputs": [],
   "source": [
    "country = 'Australia'"
   ]
  },
  {
   "cell_type": "markdown",
   "metadata": {},
   "source": [
    "### Acknowledgment in paper"
   ]
  },
  {
   "cell_type": "code",
   "execution_count": null,
   "metadata": {},
   "outputs": [],
   "source": [
    "category = 'Acknowledgment in paper'\n",
    "results = count_diff(df, paper, country, category, order_index=order_paper)\n",
    "results"
   ]
  },
  {
   "cell_type": "code",
   "execution_count": null,
   "metadata": {},
   "outputs": [],
   "source": [
    "plot_cat_comparison(results, country=country, category=category, order_index=order_paper)"
   ]
  },
  {
   "cell_type": "markdown",
   "metadata": {},
   "source": [
    "### Participation to conferences"
   ]
  },
  {
   "cell_type": "code",
   "execution_count": null,
   "metadata": {},
   "outputs": [],
   "source": [
    "category = 'Did you participate to conference'\n",
    "results = count_diff(df, conf1, country, category, y_n=True)\n",
    "results"
   ]
  },
  {
   "cell_type": "code",
   "execution_count": null,
   "metadata": {},
   "outputs": [],
   "source": [
    "plot_cat_comparison(results, country=country, category=category)"
   ]
  },
  {
   "cell_type": "markdown",
   "metadata": {},
   "source": [
    "### Conference name"
   ]
  },
  {
   "cell_type": "code",
   "execution_count": null,
   "metadata": {},
   "outputs": [],
   "source": [
    "plot_wordcloud(df, conf2, country, category)"
   ]
  },
  {
   "cell_type": "markdown",
   "metadata": {},
   "source": [
    "## Germany"
   ]
  },
  {
   "cell_type": "code",
   "execution_count": null,
   "metadata": {},
   "outputs": [],
   "source": [
    "country = 'Germany'"
   ]
  },
  {
   "cell_type": "markdown",
   "metadata": {},
   "source": [
    "### Acknowledgment in paper"
   ]
  },
  {
   "cell_type": "code",
   "execution_count": null,
   "metadata": {},
   "outputs": [],
   "source": [
    "category = 'Acknowledgment in paper'\n",
    "results = count_diff(df, paper, country, category, order_index=order_paper)\n",
    "results"
   ]
  },
  {
   "cell_type": "code",
   "execution_count": null,
   "metadata": {},
   "outputs": [],
   "source": [
    "plot_cat_comparison(results, country=country, category=category, order_index=order_paper)"
   ]
  },
  {
   "cell_type": "markdown",
   "metadata": {},
   "source": [
    "### Participation to conferences"
   ]
  },
  {
   "cell_type": "code",
   "execution_count": null,
   "metadata": {},
   "outputs": [],
   "source": [
    "category = 'Did you participate to conference'\n",
    "results = count_diff(df, conf1, country, category, y_n=True)\n",
    "results"
   ]
  },
  {
   "cell_type": "code",
   "execution_count": null,
   "metadata": {},
   "outputs": [],
   "source": [
    "plot_cat_comparison(results, country=country, category=category)"
   ]
  },
  {
   "cell_type": "markdown",
   "metadata": {},
   "source": [
    "### Conference name"
   ]
  },
  {
   "cell_type": "code",
   "execution_count": null,
   "metadata": {},
   "outputs": [],
   "source": [
    "plot_wordcloud(df, conf2, country, category)"
   ]
  },
  {
   "cell_type": "markdown",
   "metadata": {},
   "source": [
    "## Netherlands"
   ]
  },
  {
   "cell_type": "code",
   "execution_count": null,
   "metadata": {},
   "outputs": [],
   "source": [
    "country = 'Netherlands'"
   ]
  },
  {
   "cell_type": "markdown",
   "metadata": {},
   "source": [
    "### Acknowledgment in paper"
   ]
  },
  {
   "cell_type": "code",
   "execution_count": null,
   "metadata": {},
   "outputs": [],
   "source": [
    "category = 'Acknowledgment in paper'\n",
    "results = count_diff(df, paper, country, category, order_index=order_paper)\n",
    "results"
   ]
  },
  {
   "cell_type": "code",
   "execution_count": null,
   "metadata": {},
   "outputs": [],
   "source": [
    "plot_cat_comparison(results, country=country, category=category, order_index=order_paper)"
   ]
  },
  {
   "cell_type": "markdown",
   "metadata": {},
   "source": [
    "### Participation to conferences"
   ]
  },
  {
   "cell_type": "code",
   "execution_count": null,
   "metadata": {},
   "outputs": [],
   "source": [
    "category = 'Did you participate to conference'\n",
    "results = count_diff(df, conf1, country, category, y_n=True)\n",
    "results"
   ]
  },
  {
   "cell_type": "code",
   "execution_count": null,
   "metadata": {},
   "outputs": [],
   "source": [
    "plot_cat_comparison(results, country=country, category=category)"
   ]
  },
  {
   "cell_type": "markdown",
   "metadata": {},
   "source": [
    "### Conference name"
   ]
  },
  {
   "cell_type": "code",
   "execution_count": null,
   "metadata": {},
   "outputs": [],
   "source": [
    "plot_wordcloud(df, conf2, country, category)"
   ]
  },
  {
   "cell_type": "markdown",
   "metadata": {},
   "source": [
    "## New Zealand"
   ]
  },
  {
   "cell_type": "code",
   "execution_count": null,
   "metadata": {},
   "outputs": [],
   "source": [
    "country = 'New Zealand'"
   ]
  },
  {
   "cell_type": "markdown",
   "metadata": {},
   "source": [
    "### Acknowledgment in paper"
   ]
  },
  {
   "cell_type": "code",
   "execution_count": null,
   "metadata": {},
   "outputs": [],
   "source": [
    "category = 'Acknowledgment in paper'\n",
    "results = count_diff(df, paper, country, category, order_index=order_paper)\n",
    "results"
   ]
  },
  {
   "cell_type": "code",
   "execution_count": null,
   "metadata": {},
   "outputs": [],
   "source": [
    "plot_cat_comparison(results, country=country, category=category, order_index=order_paper)"
   ]
  },
  {
   "cell_type": "markdown",
   "metadata": {},
   "source": [
    "### Participation to conferences"
   ]
  },
  {
   "cell_type": "code",
   "execution_count": null,
   "metadata": {},
   "outputs": [],
   "source": [
    "category = 'Did you participate to conference'\n",
    "results = count_diff(df, conf1, country, category, y_n=True)\n",
    "results"
   ]
  },
  {
   "cell_type": "code",
   "execution_count": null,
   "metadata": {},
   "outputs": [],
   "source": [
    "plot_cat_comparison(results, country=country, category=category)"
   ]
  },
  {
   "cell_type": "markdown",
   "metadata": {},
   "source": [
    "### Conference name"
   ]
  },
  {
   "cell_type": "code",
   "execution_count": null,
   "metadata": {},
   "outputs": [],
   "source": [
    "plot_wordcloud(df, conf2, country, category)"
   ]
  },
  {
   "cell_type": "markdown",
   "metadata": {},
   "source": [
    "## South Africa"
   ]
  },
  {
   "cell_type": "code",
   "execution_count": null,
   "metadata": {},
   "outputs": [],
   "source": [
    "country = 'South Africa'"
   ]
  },
  {
   "cell_type": "markdown",
   "metadata": {},
   "source": [
    "### Acknowledgment in paper"
   ]
  },
  {
   "cell_type": "code",
   "execution_count": null,
   "metadata": {},
   "outputs": [],
   "source": [
    "category = 'Acknowledgment in paper'\n",
    "results = count_diff(df, paper, country, category, order_index=order_paper)\n",
    "results"
   ]
  },
  {
   "cell_type": "code",
   "execution_count": null,
   "metadata": {},
   "outputs": [],
   "source": [
    "plot_cat_comparison(results, country=country, category=category, order_index=order_paper)"
   ]
  },
  {
   "cell_type": "markdown",
   "metadata": {},
   "source": [
    "### Participation to conferences"
   ]
  },
  {
   "cell_type": "code",
   "execution_count": null,
   "metadata": {},
   "outputs": [],
   "source": [
    "category = 'Did you participate to conference'\n",
    "results = count_diff(df, conf1, country, category, y_n=True)\n",
    "results"
   ]
  },
  {
   "cell_type": "code",
   "execution_count": null,
   "metadata": {},
   "outputs": [],
   "source": [
    "plot_cat_comparison(results, country=country, category=category)"
   ]
  },
  {
   "cell_type": "markdown",
   "metadata": {},
   "source": [
    "### Conference name"
   ]
  },
  {
   "cell_type": "code",
   "execution_count": null,
   "metadata": {},
   "outputs": [],
   "source": [
    "plot_wordcloud(df, conf2, country, category)"
   ]
  },
  {
   "cell_type": "markdown",
   "metadata": {},
   "source": [
    "## United Kingdom"
   ]
  },
  {
   "cell_type": "code",
   "execution_count": null,
   "metadata": {},
   "outputs": [],
   "source": [
    "country = 'United Kingdom'"
   ]
  },
  {
   "cell_type": "markdown",
   "metadata": {},
   "source": [
    "### Acknowledgment in paper"
   ]
  },
  {
   "cell_type": "code",
   "execution_count": null,
   "metadata": {},
   "outputs": [],
   "source": [
    "category = 'Acknowledgment in paper'\n",
    "results = count_diff(df, paper, country, category, order_index=order_paper)\n",
    "results"
   ]
  },
  {
   "cell_type": "code",
   "execution_count": null,
   "metadata": {},
   "outputs": [],
   "source": [
    "plot_cat_comparison(results, country=country, category=category, order_index=order_paper)"
   ]
  },
  {
   "cell_type": "markdown",
   "metadata": {},
   "source": [
    "### Participation to conferences"
   ]
  },
  {
   "cell_type": "code",
   "execution_count": null,
   "metadata": {},
   "outputs": [],
   "source": [
    "category = 'Did you participate to conference'\n",
    "results = count_diff(df, conf1, country, category, y_n=True)\n",
    "results"
   ]
  },
  {
   "cell_type": "code",
   "execution_count": null,
   "metadata": {},
   "outputs": [],
   "source": [
    "plot_cat_comparison(results, country=country, category=category)"
   ]
  },
  {
   "cell_type": "markdown",
   "metadata": {},
   "source": [
    "### Conference name"
   ]
  },
  {
   "cell_type": "code",
   "execution_count": null,
   "metadata": {},
   "outputs": [],
   "source": [
    "plot_wordcloud(df, conf2, country, category)"
   ]
  },
  {
   "cell_type": "markdown",
   "metadata": {},
   "source": [
    "## United States"
   ]
  },
  {
   "cell_type": "code",
   "execution_count": null,
   "metadata": {},
   "outputs": [],
   "source": [
    "country = 'United States'"
   ]
  },
  {
   "cell_type": "markdown",
   "metadata": {},
   "source": [
    "### Acknowledgment in paper"
   ]
  },
  {
   "cell_type": "code",
   "execution_count": null,
   "metadata": {},
   "outputs": [],
   "source": [
    "category = 'Acknowledgment in paper'\n",
    "results = count_diff(df, paper, country, category, order_index=order_paper)\n",
    "results"
   ]
  },
  {
   "cell_type": "code",
   "execution_count": null,
   "metadata": {},
   "outputs": [],
   "source": [
    "plot_cat_comparison(results, country=country, category=category, order_index=order_paper)"
   ]
  },
  {
   "cell_type": "markdown",
   "metadata": {},
   "source": [
    "### Participation to conferences"
   ]
  },
  {
   "cell_type": "code",
   "execution_count": null,
   "metadata": {},
   "outputs": [],
   "source": [
    "category = 'Did you participate to conference'\n",
    "results = count_diff(df, conf1, country, category, y_n=True)\n",
    "results"
   ]
  },
  {
   "cell_type": "code",
   "execution_count": null,
   "metadata": {},
   "outputs": [],
   "source": [
    "plot_cat_comparison(results, country=country, category=category)"
   ]
  },
  {
   "cell_type": "markdown",
   "metadata": {},
   "source": [
    "### Conference name"
   ]
  },
  {
   "cell_type": "code",
   "execution_count": null,
   "metadata": {},
   "outputs": [],
   "source": [
    "plot_wordcloud(df, conf2, country, category)"
   ]
  },
  {
   "cell_type": "markdown",
   "metadata": {},
   "source": [
    "## Rest of the world"
   ]
  },
  {
   "cell_type": "code",
   "execution_count": null,
   "metadata": {},
   "outputs": [],
   "source": [
    "country = 'World'"
   ]
  },
  {
   "cell_type": "markdown",
   "metadata": {},
   "source": [
    "### Acknowledgment in paper"
   ]
  },
  {
   "cell_type": "code",
   "execution_count": null,
   "metadata": {},
   "outputs": [],
   "source": [
    "category = 'Acknowledgment in paper'\n",
    "results = count_diff(df, paper, country, category, order_index=order_paper)\n",
    "results"
   ]
  },
  {
   "cell_type": "code",
   "execution_count": null,
   "metadata": {},
   "outputs": [],
   "source": [
    "plot_cat_comparison(results, country=country, category=category, order_index=order_paper)"
   ]
  },
  {
   "cell_type": "markdown",
   "metadata": {},
   "source": [
    "### Participation to conferences"
   ]
  },
  {
   "cell_type": "code",
   "execution_count": null,
   "metadata": {},
   "outputs": [],
   "source": [
    "category = 'Did you participate to conference'\n",
    "results = count_diff(df, conf1, country, category, y_n=True)\n",
    "results"
   ]
  },
  {
   "cell_type": "code",
   "execution_count": null,
   "metadata": {},
   "outputs": [],
   "source": [
    "plot_cat_comparison(results, country=country, category=category)"
   ]
  },
  {
   "cell_type": "markdown",
   "metadata": {},
   "source": [
    "### Conference name"
   ]
  },
  {
   "cell_type": "code",
   "execution_count": null,
   "metadata": {
    "scrolled": true
   },
   "outputs": [],
   "source": [
    "plot_wordcloud(df, conf2, country, category)"
   ]
  }
 ],
 "metadata": {
  "kernelspec": {
   "display_name": "Python 3",
   "language": "python",
   "name": "python3"
  },
  "language_info": {
   "codemirror_mode": {
    "name": "ipython",
    "version": 3
   },
   "file_extension": ".py",
   "mimetype": "text/x-python",
   "name": "python",
   "nbconvert_exporter": "python",
   "pygments_lexer": "ipython3",
   "version": "3.6.7"
  },
  "toc": {
   "base_numbering": 1,
   "nav_menu": {
    "height": "512px",
    "width": "252px"
   },
   "number_sections": true,
   "sideBar": true,
   "skip_h1_title": false,
   "title_cell": "Table of Contents",
   "title_sidebar": "Contents",
   "toc_cell": true,
   "toc_position": {},
   "toc_section_display": "block",
   "toc_window_display": true
  }
 },
 "nbformat": 4,
 "nbformat_minor": 2
}
