{
 "cells": [
  {
   "cell_type": "markdown",
   "metadata": {
    "toc": true
   },
   "source": [
    "<h1>Table of Contents<span class=\"tocSkip\"></span></h1>\n",
    "<div class=\"toc\"><ul class=\"toc-item\"><li><span><a href=\"#Introduction\" data-toc-modified-id=\"Introduction-1\"><span class=\"toc-item-num\">1&nbsp;&nbsp;</span>Introduction</a></span><ul class=\"toc-item\"><li><span><a href=\"#Setting-up\" data-toc-modified-id=\"Setting-up-1.1\"><span class=\"toc-item-num\">1.1&nbsp;&nbsp;</span>Setting up</a></span></li></ul></li><li><span><a href=\"#Socio-demographic\" data-toc-modified-id=\"Socio-demographic-2\"><span class=\"toc-item-num\">2&nbsp;&nbsp;</span>Socio demographic</a></span><ul class=\"toc-item\"><li><span><a href=\"#Australia\" data-toc-modified-id=\"Australia-2.1\"><span class=\"toc-item-num\">2.1&nbsp;&nbsp;</span>Australia</a></span><ul class=\"toc-item\"><li><span><a href=\"#Age\" data-toc-modified-id=\"Age-2.1.1\"><span class=\"toc-item-num\">2.1.1&nbsp;&nbsp;</span>Age</a></span></li><li><span><a href=\"#Gender\" data-toc-modified-id=\"Gender-2.1.2\"><span class=\"toc-item-num\">2.1.2&nbsp;&nbsp;</span>Gender</a></span></li></ul></li><li><span><a href=\"#Germany\" data-toc-modified-id=\"Germany-2.2\"><span class=\"toc-item-num\">2.2&nbsp;&nbsp;</span>Germany</a></span><ul class=\"toc-item\"><li><span><a href=\"#Age\" data-toc-modified-id=\"Age-2.2.1\"><span class=\"toc-item-num\">2.2.1&nbsp;&nbsp;</span>Age</a></span></li><li><span><a href=\"#Gender\" data-toc-modified-id=\"Gender-2.2.2\"><span class=\"toc-item-num\">2.2.2&nbsp;&nbsp;</span>Gender</a></span></li></ul></li><li><span><a href=\"#Netherlands\" data-toc-modified-id=\"Netherlands-2.3\"><span class=\"toc-item-num\">2.3&nbsp;&nbsp;</span>Netherlands</a></span><ul class=\"toc-item\"><li><span><a href=\"#Age\" data-toc-modified-id=\"Age-2.3.1\"><span class=\"toc-item-num\">2.3.1&nbsp;&nbsp;</span>Age</a></span></li><li><span><a href=\"#Gender\" data-toc-modified-id=\"Gender-2.3.2\"><span class=\"toc-item-num\">2.3.2&nbsp;&nbsp;</span>Gender</a></span></li></ul></li><li><span><a href=\"#New-Zealand\" data-toc-modified-id=\"New-Zealand-2.4\"><span class=\"toc-item-num\">2.4&nbsp;&nbsp;</span>New Zealand</a></span><ul class=\"toc-item\"><li><span><a href=\"#Age\" data-toc-modified-id=\"Age-2.4.1\"><span class=\"toc-item-num\">2.4.1&nbsp;&nbsp;</span>Age</a></span></li><li><span><a href=\"#Gender\" data-toc-modified-id=\"Gender-2.4.2\"><span class=\"toc-item-num\">2.4.2&nbsp;&nbsp;</span>Gender</a></span></li></ul></li><li><span><a href=\"#South-Africa\" data-toc-modified-id=\"South-Africa-2.5\"><span class=\"toc-item-num\">2.5&nbsp;&nbsp;</span>South Africa</a></span><ul class=\"toc-item\"><li><span><a href=\"#Age\" data-toc-modified-id=\"Age-2.5.1\"><span class=\"toc-item-num\">2.5.1&nbsp;&nbsp;</span>Age</a></span></li><li><span><a href=\"#Gender\" data-toc-modified-id=\"Gender-2.5.2\"><span class=\"toc-item-num\">2.5.2&nbsp;&nbsp;</span>Gender</a></span></li></ul></li><li><span><a href=\"#United-Kingdom\" data-toc-modified-id=\"United-Kingdom-2.6\"><span class=\"toc-item-num\">2.6&nbsp;&nbsp;</span>United Kingdom</a></span><ul class=\"toc-item\"><li><span><a href=\"#Age\" data-toc-modified-id=\"Age-2.6.1\"><span class=\"toc-item-num\">2.6.1&nbsp;&nbsp;</span>Age</a></span></li><li><span><a href=\"#Gender\" data-toc-modified-id=\"Gender-2.6.2\"><span class=\"toc-item-num\">2.6.2&nbsp;&nbsp;</span>Gender</a></span></li></ul></li><li><span><a href=\"#Gender\" data-toc-modified-id=\"Gender-2.7\"><span class=\"toc-item-num\">2.7&nbsp;&nbsp;</span>Gender</a></span><ul class=\"toc-item\"><li><span><a href=\"#Ethnicity\" data-toc-modified-id=\"Ethnicity-2.7.1\"><span class=\"toc-item-num\">2.7.1&nbsp;&nbsp;</span>Ethnicity</a></span></li><li><span><a href=\"#Disability\" data-toc-modified-id=\"Disability-2.7.2\"><span class=\"toc-item-num\">2.7.2&nbsp;&nbsp;</span>Disability</a></span></li></ul></li><li><span><a href=\"#United-States\" data-toc-modified-id=\"United-States-2.8\"><span class=\"toc-item-num\">2.8&nbsp;&nbsp;</span>United States</a></span><ul class=\"toc-item\"><li><span><a href=\"#Age\" data-toc-modified-id=\"Age-2.8.1\"><span class=\"toc-item-num\">2.8.1&nbsp;&nbsp;</span>Age</a></span></li><li><span><a href=\"#Gender\" data-toc-modified-id=\"Gender-2.8.2\"><span class=\"toc-item-num\">2.8.2&nbsp;&nbsp;</span>Gender</a></span></li><li><span><a href=\"#Ethnicity\" data-toc-modified-id=\"Ethnicity-2.8.3\"><span class=\"toc-item-num\">2.8.3&nbsp;&nbsp;</span>Ethnicity</a></span></li><li><span><a href=\"#Hispano-or-Latino\" data-toc-modified-id=\"Hispano-or-Latino-2.8.4\"><span class=\"toc-item-num\">2.8.4&nbsp;&nbsp;</span>Hispano or Latino</a></span></li></ul></li><li><span><a href=\"#Rest-of-the-world\" data-toc-modified-id=\"Rest-of-the-world-2.9\"><span class=\"toc-item-num\">2.9&nbsp;&nbsp;</span>Rest of the world</a></span><ul class=\"toc-item\"><li><span><a href=\"#Age\" data-toc-modified-id=\"Age-2.9.1\"><span class=\"toc-item-num\">2.9.1&nbsp;&nbsp;</span>Age</a></span></li><li><span><a href=\"#Gender\" data-toc-modified-id=\"Gender-2.9.2\"><span class=\"toc-item-num\">2.9.2&nbsp;&nbsp;</span>Gender</a></span></li></ul></li></ul></li></ul></div>"
   ]
  },
  {
   "cell_type": "markdown",
   "metadata": {},
   "source": [
    "# Introduction"
   ]
  },
  {
   "cell_type": "markdown",
   "metadata": {},
   "source": [
    "## Setting up"
   ]
  },
  {
   "cell_type": "code",
   "execution_count": null,
   "metadata": {},
   "outputs": [],
   "source": [
    "%%capture  \n",
    "# Import notebook containing the imports the functions and the dataset\n",
    "%run \"./0. Imports and functions.ipynb\"\n",
    "\n",
    "# Import notebook containing sampled dataset\n",
    "%run \"./1. Overview and sampling.ipynb\""
   ]
  },
  {
   "cell_type": "markdown",
   "metadata": {},
   "source": [
    "# Socio demographic"
   ]
  },
  {
   "cell_type": "code",
   "execution_count": null,
   "metadata": {},
   "outputs": [],
   "source": [
    "age = ['socio3. Please select your age']\n",
    "age_order = ['18 to 24 years', '25 to 34 years', '35 to 44 years', '45 to 54 years', '55 to 64 years', 'Age 65 or older', 'Prefer not to say']\n",
    "\n",
    "gender = [\"socio2. Please select your gender\"]\n",
    "\n",
    "ethnicity = [x for x in df.columns if x[:7] == 'socio5.']\n",
    "ethn_us = ['socio5us. Do you consider yourself Hispanic or Latino']\n",
    "\n",
    "disability = ['disa1. Do you have a condition that is defined as a disability by your country?']\n"
   ]
  },
  {
   "cell_type": "markdown",
   "metadata": {},
   "source": [
    "## Australia"
   ]
  },
  {
   "cell_type": "code",
   "execution_count": null,
   "metadata": {},
   "outputs": [],
   "source": [
    "country = 'Australia'"
   ]
  },
  {
   "cell_type": "markdown",
   "metadata": {},
   "source": [
    "### Age"
   ]
  },
  {
   "cell_type": "code",
   "execution_count": null,
   "metadata": {},
   "outputs": [],
   "source": [
    "category = 'Age'\n",
    "results = count_diff(df, age, country, category, order_index=age_order)\n",
    "results"
   ]
  },
  {
   "cell_type": "code",
   "execution_count": null,
   "metadata": {},
   "outputs": [],
   "source": [
    "plot_cat_comparison(results, country=country, category=category, order_index=age_order)"
   ]
  },
  {
   "cell_type": "markdown",
   "metadata": {},
   "source": [
    "### Gender"
   ]
  },
  {
   "cell_type": "code",
   "execution_count": null,
   "metadata": {},
   "outputs": [],
   "source": [
    "category = 'Gender'\n",
    "results = count_diff(df, gender, country, category)\n",
    "results"
   ]
  },
  {
   "cell_type": "code",
   "execution_count": null,
   "metadata": {},
   "outputs": [],
   "source": [
    "plot_cat_comparison(results, country=country, category=category)"
   ]
  },
  {
   "cell_type": "markdown",
   "metadata": {},
   "source": [
    "## Germany"
   ]
  },
  {
   "cell_type": "code",
   "execution_count": null,
   "metadata": {},
   "outputs": [],
   "source": [
    "country = 'Germany'"
   ]
  },
  {
   "cell_type": "markdown",
   "metadata": {},
   "source": [
    "### Age"
   ]
  },
  {
   "cell_type": "code",
   "execution_count": null,
   "metadata": {},
   "outputs": [],
   "source": [
    "category = 'Age'\n",
    "results = count_diff(df, age, country, category, order_index=age_order)\n",
    "results"
   ]
  },
  {
   "cell_type": "code",
   "execution_count": null,
   "metadata": {},
   "outputs": [],
   "source": [
    "plot_cat_comparison(results, country=country, category=category, order_index=age_order)"
   ]
  },
  {
   "cell_type": "markdown",
   "metadata": {},
   "source": [
    "### Gender"
   ]
  },
  {
   "cell_type": "code",
   "execution_count": null,
   "metadata": {},
   "outputs": [],
   "source": [
    "category = 'Gender'\n",
    "results = count_diff(df, gender, country, category)\n",
    "results"
   ]
  },
  {
   "cell_type": "code",
   "execution_count": null,
   "metadata": {},
   "outputs": [],
   "source": [
    "plot_cat_comparison(results, country=country, category=category)"
   ]
  },
  {
   "cell_type": "markdown",
   "metadata": {},
   "source": [
    "## Netherlands"
   ]
  },
  {
   "cell_type": "code",
   "execution_count": null,
   "metadata": {},
   "outputs": [],
   "source": [
    "country = 'Netherlands'"
   ]
  },
  {
   "cell_type": "markdown",
   "metadata": {},
   "source": [
    "### Age"
   ]
  },
  {
   "cell_type": "code",
   "execution_count": null,
   "metadata": {},
   "outputs": [],
   "source": [
    "category = 'Age'\n",
    "results = count_diff(df, age, country, category, order_index=age_order)\n",
    "results"
   ]
  },
  {
   "cell_type": "code",
   "execution_count": null,
   "metadata": {},
   "outputs": [],
   "source": [
    "plot_cat_comparison(results, country=country, category=category, order_index=age_order)"
   ]
  },
  {
   "cell_type": "markdown",
   "metadata": {},
   "source": [
    "### Gender"
   ]
  },
  {
   "cell_type": "code",
   "execution_count": null,
   "metadata": {},
   "outputs": [],
   "source": [
    "category = 'Gender'\n",
    "results = count_diff(df, gender, country, category)\n",
    "results"
   ]
  },
  {
   "cell_type": "code",
   "execution_count": null,
   "metadata": {},
   "outputs": [],
   "source": [
    "plot_cat_comparison(results, country=country, category=category)"
   ]
  },
  {
   "cell_type": "markdown",
   "metadata": {},
   "source": [
    "## New Zealand"
   ]
  },
  {
   "cell_type": "code",
   "execution_count": null,
   "metadata": {},
   "outputs": [],
   "source": [
    "country = 'New Zealand'"
   ]
  },
  {
   "cell_type": "markdown",
   "metadata": {},
   "source": [
    "### Age"
   ]
  },
  {
   "cell_type": "code",
   "execution_count": null,
   "metadata": {},
   "outputs": [],
   "source": [
    "category = 'Age'\n",
    "results = count_diff(df, age, country, category, order_index=age_order)\n",
    "results"
   ]
  },
  {
   "cell_type": "code",
   "execution_count": null,
   "metadata": {},
   "outputs": [],
   "source": [
    "plot_cat_comparison(results, country=country, category=category, order_index=age_order)"
   ]
  },
  {
   "cell_type": "markdown",
   "metadata": {},
   "source": [
    "### Gender"
   ]
  },
  {
   "cell_type": "code",
   "execution_count": null,
   "metadata": {},
   "outputs": [],
   "source": [
    "category = 'Gender'\n",
    "results = count_diff(df, gender, country, category)\n",
    "results"
   ]
  },
  {
   "cell_type": "code",
   "execution_count": null,
   "metadata": {},
   "outputs": [],
   "source": [
    "plot_cat_comparison(results, country=country, category=category)"
   ]
  },
  {
   "cell_type": "markdown",
   "metadata": {},
   "source": [
    "## South Africa"
   ]
  },
  {
   "cell_type": "code",
   "execution_count": null,
   "metadata": {},
   "outputs": [],
   "source": [
    "country = 'South Africa'"
   ]
  },
  {
   "cell_type": "markdown",
   "metadata": {},
   "source": [
    "### Age"
   ]
  },
  {
   "cell_type": "code",
   "execution_count": null,
   "metadata": {},
   "outputs": [],
   "source": [
    "category = 'Age'\n",
    "results = count_diff(df, age, country, category, order_index=age_order)\n",
    "results"
   ]
  },
  {
   "cell_type": "code",
   "execution_count": null,
   "metadata": {},
   "outputs": [],
   "source": [
    "plot_cat_comparison(results, country=country, category=category, order_index=age_order)"
   ]
  },
  {
   "cell_type": "markdown",
   "metadata": {},
   "source": [
    "### Gender"
   ]
  },
  {
   "cell_type": "code",
   "execution_count": null,
   "metadata": {},
   "outputs": [],
   "source": [
    "category = 'Gender'\n",
    "results = count_diff(df, gender, country, category)\n",
    "results"
   ]
  },
  {
   "cell_type": "code",
   "execution_count": null,
   "metadata": {},
   "outputs": [],
   "source": [
    "plot_cat_comparison(results, country=country, category=category)"
   ]
  },
  {
   "cell_type": "markdown",
   "metadata": {},
   "source": [
    "## United Kingdom"
   ]
  },
  {
   "cell_type": "code",
   "execution_count": null,
   "metadata": {},
   "outputs": [],
   "source": [
    "country = 'United Kingdom'"
   ]
  },
  {
   "cell_type": "markdown",
   "metadata": {},
   "source": [
    "### Age"
   ]
  },
  {
   "cell_type": "code",
   "execution_count": null,
   "metadata": {},
   "outputs": [],
   "source": [
    "category = 'Age'\n",
    "results = count_diff(df, age, country, category, order_index=age_order)\n",
    "results"
   ]
  },
  {
   "cell_type": "code",
   "execution_count": null,
   "metadata": {},
   "outputs": [],
   "source": [
    "plot_cat_comparison(results, country=country, category=category, order_index=age_order)"
   ]
  },
  {
   "cell_type": "markdown",
   "metadata": {},
   "source": [
    "### Gender"
   ]
  },
  {
   "cell_type": "markdown",
   "metadata": {},
   "source": [
    "## Gender\n",
    "\n",
    "In the 2016 UK survey of RSEs we found a significant gender imbalance in the RSE Community: of the respondents who provided answers (n=263), 88% were male, 11% female and less than 1% described their gender as \"other\". In the 2017 UK survey, we find that these figures are shifted slightly to 84% male, 15% female and less than 1% who describe their gender as \"other\". In 2018, the tendency seems to follow the same trend as the proportion of male is 79%. However this lower proportion is due to the fact that this year, the category `Prefer not to say` is included. When we calculate the proportion of male and female only, it remains at 84%. The RSE community in the UK is predominantly male."
   ]
  },
  {
   "cell_type": "code",
   "execution_count": null,
   "metadata": {},
   "outputs": [],
   "source": [
    "category = 'Gender'\n",
    "results = count_diff(df, gender, country, category)\n",
    "results"
   ]
  },
  {
   "cell_type": "code",
   "execution_count": null,
   "metadata": {},
   "outputs": [],
   "source": [
    "plot_cat_comparison(results, country=country, category=category)"
   ]
  },
  {
   "cell_type": "markdown",
   "metadata": {},
   "source": [
    "### Ethnicity"
   ]
  },
  {
   "cell_type": "code",
   "execution_count": null,
   "metadata": {},
   "outputs": [],
   "source": [
    "category = 'Ethnicity'\n",
    "results = count_diff(df, ethnicity, country, category, multi_choice=True)\n",
    "results"
   ]
  },
  {
   "cell_type": "code",
   "execution_count": null,
   "metadata": {},
   "outputs": [],
   "source": [
    "plot_cat_comparison(results, country=country, category=category)"
   ]
  },
  {
   "cell_type": "markdown",
   "metadata": {},
   "source": [
    "### Disability"
   ]
  },
  {
   "cell_type": "code",
   "execution_count": null,
   "metadata": {},
   "outputs": [],
   "source": [
    "category = \"Officially recognised disability\"\n",
    "results = count_diff(df, disability, country, category, y_n=True)"
   ]
  },
  {
   "cell_type": "code",
   "execution_count": null,
   "metadata": {},
   "outputs": [],
   "source": [
    "plot_cat_comparison(results, country=country, category=category)"
   ]
  },
  {
   "cell_type": "markdown",
   "metadata": {},
   "source": [
    "## United States"
   ]
  },
  {
   "cell_type": "code",
   "execution_count": null,
   "metadata": {},
   "outputs": [],
   "source": [
    "country = 'United States'"
   ]
  },
  {
   "cell_type": "markdown",
   "metadata": {},
   "source": [
    "### Age"
   ]
  },
  {
   "cell_type": "code",
   "execution_count": null,
   "metadata": {},
   "outputs": [],
   "source": [
    "category = 'Age'\n",
    "results = count_diff(df, age, country, category, order_index=age_order)\n",
    "results"
   ]
  },
  {
   "cell_type": "code",
   "execution_count": null,
   "metadata": {},
   "outputs": [],
   "source": [
    "plot_cat_comparison(results, country=country, category=category, order_index=age_order)"
   ]
  },
  {
   "cell_type": "markdown",
   "metadata": {},
   "source": [
    "### Gender"
   ]
  },
  {
   "cell_type": "code",
   "execution_count": null,
   "metadata": {},
   "outputs": [],
   "source": [
    "category = 'Gender'\n",
    "results = count_diff(df, gender, country, category)\n",
    "results"
   ]
  },
  {
   "cell_type": "code",
   "execution_count": null,
   "metadata": {},
   "outputs": [],
   "source": [
    "plot_cat_comparison(results, country=country, category=category)"
   ]
  },
  {
   "cell_type": "markdown",
   "metadata": {},
   "source": [
    "### Ethnicity"
   ]
  },
  {
   "cell_type": "code",
   "execution_count": null,
   "metadata": {},
   "outputs": [],
   "source": [
    "category = 'Ethnicity'\n",
    "results = count_diff(df, ethnicity, country, category, multi_choice=True)\n",
    "results"
   ]
  },
  {
   "cell_type": "code",
   "execution_count": null,
   "metadata": {},
   "outputs": [],
   "source": [
    "plot_cat_comparison(results, country=country, category=category)"
   ]
  },
  {
   "cell_type": "markdown",
   "metadata": {},
   "source": [
    "### Hispano or Latino"
   ]
  },
  {
   "cell_type": "code",
   "execution_count": null,
   "metadata": {},
   "outputs": [],
   "source": [
    "category = 'Ethnicity USA'\n",
    "results = count_diff(df, ethn_us, country, category, y_n=True)\n",
    "results"
   ]
  },
  {
   "cell_type": "code",
   "execution_count": null,
   "metadata": {},
   "outputs": [],
   "source": [
    "plot_cat_comparison(results, country=country, category=category)"
   ]
  },
  {
   "cell_type": "markdown",
   "metadata": {},
   "source": [
    "## Rest of the world"
   ]
  },
  {
   "cell_type": "code",
   "execution_count": null,
   "metadata": {},
   "outputs": [],
   "source": [
    "country = 'World'"
   ]
  },
  {
   "cell_type": "markdown",
   "metadata": {},
   "source": [
    "### Age"
   ]
  },
  {
   "cell_type": "code",
   "execution_count": null,
   "metadata": {},
   "outputs": [],
   "source": [
    "category = 'Age'\n",
    "results = count_diff(df, age, country, category, order_index=age_order)\n",
    "results"
   ]
  },
  {
   "cell_type": "code",
   "execution_count": null,
   "metadata": {},
   "outputs": [],
   "source": [
    "plot_cat_comparison(results, country=country, category=category, order_index=age_order)"
   ]
  },
  {
   "cell_type": "markdown",
   "metadata": {},
   "source": [
    "### Gender"
   ]
  },
  {
   "cell_type": "code",
   "execution_count": null,
   "metadata": {},
   "outputs": [],
   "source": [
    "category = 'Gender'\n",
    "results = count_diff(df, gender, country, category)\n",
    "results"
   ]
  },
  {
   "cell_type": "code",
   "execution_count": null,
   "metadata": {},
   "outputs": [],
   "source": [
    "plot_cat_comparison(results, country=country, category=category)"
   ]
  }
 ],
 "metadata": {
  "kernelspec": {
   "display_name": "Python 3",
   "language": "python",
   "name": "python3"
  },
  "language_info": {
   "codemirror_mode": {
    "name": "ipython",
    "version": 3
   },
   "file_extension": ".py",
   "mimetype": "text/x-python",
   "name": "python",
   "nbconvert_exporter": "python",
   "pygments_lexer": "ipython3",
   "version": "3.6.7"
  },
  "toc": {
   "base_numbering": 1,
   "nav_menu": {
    "height": "512px",
    "width": "252px"
   },
   "number_sections": true,
   "sideBar": true,
   "skip_h1_title": false,
   "title_cell": "Table of Contents",
   "title_sidebar": "Contents",
   "toc_cell": true,
   "toc_position": {},
   "toc_section_display": "block",
   "toc_window_display": true
  }
 },
 "nbformat": 4,
 "nbformat_minor": 2
}
